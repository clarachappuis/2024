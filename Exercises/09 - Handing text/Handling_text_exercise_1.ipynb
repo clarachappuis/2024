{
 "cells": [
  {
   "cell_type": "markdown",
   "metadata": {},
   "source": [
    "# Handling text exercise"
   ]
  },
  {
   "cell_type": "markdown",
   "metadata": {},
   "source": [
    "## Welcome! This exercise consists of:\n",
    "\n",
    "## Part 1: Hands on tutorial\n",
    "1. Implementing the natural language processing pipeline\n",
    "2. Solving four typical language processing tasks:\n",
    "   * Sentiment analysis\n",
    "   * Document classification\n",
    "   * Topic detection\n",
    "   * Semantic analysis\n",
    "\n",
    "\n",
    "### We will be working with four books in plain text:\n",
    "1. Moby-Dick, by Herman Melville\n",
    "2. Frankenstein; or, The Modern Prometheus, by Mary Shelley\n",
    "3. Pride and Prejudice, by Jane Austen\n",
    "4. Dracula, Bram Stoker\n",
    "\n",
    "#### To run this notebook, you need to install the following libraries:\n",
    "\n",
    "conda install nltk gensim spacy <br>\n",
    "pip install pyLDAvis  <br>\n",
    "pip install vaderSentiment  <br>\n",
    "pip install empath <br>\n",
    "python -m spacy download en  <br>\n",
    "python -m nltk.downloader punkt <br>\n",
    "python -m nltk.downloader all-corpora <br>\n",
    "\n",
    "## Part 2: Handling text comprehension questions\n",
    "- You can test your understanding of important NLP concepts. Solutions will be released next week.\n",
    "\n",
    "## Part 3: Coding exercise\n",
    "- When you are done, in \"Handling_text_exercise_2.ipynb\", you will find additional exercises you can work on independently."
   ]
  },
  {
   "cell_type": "markdown",
   "metadata": {},
   "source": [
    "## Part 1"
   ]
  },
  {
   "cell_type": "code",
   "execution_count": 1,
   "metadata": {},
   "outputs": [],
   "source": [
    "%load_ext autoreload\n",
    "%autoreload 2\n",
    "\n",
    "import warnings; warnings.simplefilter('ignore')\n",
    "import os, codecs, string, random\n",
    "import numpy as np\n",
    "from numpy.random import seed as random_seed\n",
    "from numpy.random import shuffle as random_shuffle\n",
    "import matplotlib.pyplot as plt\n",
    "%matplotlib inline  \n",
    "\n",
    "seed = 42\n",
    "random.seed(seed)\n",
    "np.random.seed(seed)\n",
    "\n",
    "#NLP libraries\n",
    "import spacy, nltk, gensim, sklearn\n",
    "#import pyLDAvis.gensim\n",
    "import pyLDAvis.gensim_models\n",
    "\n",
    "#Vader\n",
    "import vaderSentiment\n",
    "from vaderSentiment.vaderSentiment import SentimentIntensityAnalyzer\n",
    "\n",
    "#Scikit imports\n",
    "from sklearn.feature_extraction.text import CountVectorizer\n",
    "from sklearn.model_selection import train_test_split\n",
    "from sklearn.model_selection import cross_val_score\n",
    "from sklearn.linear_model import LogisticRegression\n",
    "from sklearn import preprocessing\n",
    "from sklearn.preprocessing import StandardScaler\n",
    "from sklearn.utils import shuffle\n",
    "\n",
    "#The data\n",
    "corpus_root = 'books/'"
   ]
  },
  {
   "cell_type": "code",
   "execution_count": 2,
   "metadata": {},
   "outputs": [],
   "source": [
    "import gensim"
   ]
  },
  {
   "cell_type": "code",
   "execution_count": 3,
   "metadata": {},
   "outputs": [
    {
     "name": "stdout",
     "output_type": "stream",
     "text": [
      "/usr/local/bin/python3\n"
     ]
    }
   ],
   "source": [
    "import sys\n",
    "print(sys.executable)\n"
   ]
  },
  {
   "cell_type": "markdown",
   "metadata": {},
   "source": [
    "#### In this tutorial we will be working with text in English. The same principles apply, but the methods cannot be applied directly to the text in unknown or other languages. We will be working mainly with the Spacy library."
   ]
  },
  {
   "cell_type": "markdown",
   "metadata": {},
   "source": [
    "Initialize the Spacy analyzer in English"
   ]
  },
  {
   "cell_type": "code",
   "execution_count": 4,
   "metadata": {},
   "outputs": [],
   "source": [
    "#nlp = spacy.load('en_core_web_sm')\n",
    "nlp= spacy.load('en_core_web_sm')"
   ]
  },
  {
   "cell_type": "markdown",
   "metadata": {},
   "source": [
    "Load the books"
   ]
  },
  {
   "cell_type": "code",
   "execution_count": 5,
   "metadata": {},
   "outputs": [
    {
     "name": "stdout",
     "output_type": "stream",
     "text": [
      "Moby_Dick.txt\n",
      "Frankenstein.txt\n",
      "DRACULA.txt\n",
      "PRIDE_AND_PREJUDICE.txt\n"
     ]
    }
   ],
   "source": [
    "books = list()\n",
    "\n",
    "for book_file in os.listdir(corpus_root):\n",
    "    if \".txt\" in book_file:\n",
    "        print(book_file)\n",
    "        with codecs.open(os.path.join(corpus_root,book_file),encoding=\"utf8\") as f:\n",
    "            books.append(f.read())"
   ]
  },
  {
   "cell_type": "markdown",
   "metadata": {},
   "source": [
    "Print the beginning of Pride and Prejudice"
   ]
  },
  {
   "cell_type": "code",
   "execution_count": 6,
   "metadata": {},
   "outputs": [
    {
     "name": "stdout",
     "output_type": "stream",
     "text": [
      "PRIDE AND PREJUDICE\n",
      "\n",
      "By Jane Austen\n",
      "\n",
      "\n",
      "\n",
      "Chapter 1\n",
      "\n",
      "\n",
      "It is a truth universally acknowledged, that a single man in possession\n",
      "of a good fortune, must be in want of a wife.\n",
      "\n",
      "However little known the feelings or views of such a man may be on his\n",
      "first entering a neighbourhood, this truth is so well fixed in the minds\n",
      "of the surrounding families, that he is considered the rightful property\n",
      "of some one or other of their daughters.\n",
      "\n",
      "“My dear Mr. Bennet,” said his lady to him one day, “have you heard that\n",
      "Netherfield Park is let at last?”\n",
      "\n",
      "Mr. Bennet replied that he had not.\n",
      "\n",
      "“But it is,” returned she;\n"
     ]
    }
   ],
   "source": [
    "print(books[3][0:600])"
   ]
  },
  {
   "cell_type": "markdown",
   "metadata": {},
   "source": [
    "#### Let's remove the new lines"
   ]
  },
  {
   "cell_type": "code",
   "execution_count": 7,
   "metadata": {},
   "outputs": [],
   "source": [
    "books = [\" \".join(b.split()) for b in books]"
   ]
  },
  {
   "cell_type": "code",
   "execution_count": 8,
   "metadata": {},
   "outputs": [
    {
     "name": "stdout",
     "output_type": "stream",
     "text": [
      "PRIDE AND PREJUDICE By Jane Austen Chapter 1 It is a truth universally acknowledged, that a single man in possession of a good fortune, must be in want of a wife. However little known the feelings or views of such a man may be on his first entering a neighbourhood, this truth is so well fixed in the minds of the surrounding families, that he is considered the rightful property of some one or other of their daughters. “My dear Mr. Bennet,” said his lady to him one day, “have you heard that Netherfield Park is let at last?” Mr. Bennet replied that he had not. “But it is,” returned she; “for Mrs.\n"
     ]
    }
   ],
   "source": [
    "print(books[3][0:600])"
   ]
  },
  {
   "cell_type": "markdown",
   "metadata": {},
   "source": [
    "### Load Frankenstein"
   ]
  },
  {
   "cell_type": "code",
   "execution_count": 9,
   "metadata": {},
   "outputs": [],
   "source": [
    "#index all books\n",
    "book = books[1]\n",
    "\n",
    "#put in raw text, get a Spacy object\n",
    "doc = nlp(book)"
   ]
  },
  {
   "cell_type": "markdown",
   "metadata": {},
   "source": [
    "## Let's create our own NLP pipeline with Spacy!"
   ]
  },
  {
   "cell_type": "markdown",
   "metadata": {},
   "source": [
    "### Step 1: Sentence splitting\n",
    "\n",
    "#### May sound trivial, but it's not! (e.g., U.K. or Yahoo!) Spacy uses a statistical model to generate accurate predictions. This works well out of the box for general-purpose text or web text. For social media use dedicated libraries."
   ]
  },
  {
   "cell_type": "code",
   "execution_count": 10,
   "metadata": {},
   "outputs": [
    {
     "name": "stdout",
     "output_type": "stream",
     "text": [
      "Sentence 1: Frankenstein, or the Modern Prometheus by Mary Wollstonecraft (Godwin) Shelley Letter 1 St. Petersburgh, Dec. 11th, 17-- TO Mrs. Saville, England You will rejoice to hear that no disaster has accompanied the commencement of an enterprise which you have regarded with such evil forebodings. \n",
      "\n",
      "Sentence 2: I arrived here yesterday, and my first task is to assure my dear sister of my welfare and increasing confidence in the success of my undertaking. \n",
      "\n",
      "Sentence 3: I am already far north of London, and as I walk in the streets of Petersburgh, I feel a cold northern breeze play upon my cheeks, which braces my nerves and fills me with delight. \n",
      "\n"
     ]
    }
   ],
   "source": [
    "sentences = [sent for sent in doc.sents]\n",
    "print('Sentence 1:',sentences[0],'\\n')\n",
    "print('Sentence 2:',sentences[1],'\\n')\n",
    "print('Sentence 3:',sentences[2],'\\n')"
   ]
  },
  {
   "cell_type": "markdown",
   "metadata": {},
   "source": [
    "### Step 2: Tokenization\n",
    "\n",
    "#### The task of splitting a text into meaningful segments called tokens. We segment the sentence into words, punctuation, etc. This is done by first splitting on whitespace characters and them applying rules specific to each language. For example, \"don't\" does not contain whitespace, but should be split into two tokens, \"do\" and \"n't\", while \"U.K.\" should always remain one token and \"but,\" shouldn't."
   ]
  },
  {
   "cell_type": "markdown",
   "metadata": {},
   "source": [
    "### We will analyze the methods on an example sentence first"
   ]
  },
  {
   "cell_type": "code",
   "execution_count": 11,
   "metadata": {},
   "outputs": [
    {
     "name": "stdout",
     "output_type": "stream",
     "text": [
      "I am already far north of London, and as I walk in the streets of Petersburgh, I feel a cold northern breeze play upon my cheeks, which braces my nerves and fills me with delight. \n",
      "\n",
      "['I', 'am', 'already', 'far', 'north', 'of', 'London', ',', 'and', 'as', 'I', 'walk', 'in', 'the', 'streets', 'of', 'Petersburgh', ',', 'I', 'feel', 'a', 'cold', 'northern', 'breeze', 'play', 'upon', 'my', 'cheeks', ',', 'which', 'braces', 'my', 'nerves', 'and', 'fills', 'me', 'with', 'delight', '.']\n"
     ]
    }
   ],
   "source": [
    "example = 'I am already far north of London, and as I walk in the streets of Petersburgh, I feel a cold northern breeze play upon my cheeks, which braces my nerves and fills me with delight.'\n",
    "\n",
    "doc = nlp(example)\n",
    "\n",
    "#strings are encoded to hashes\n",
    "tokens = [token.text for token in doc]\n",
    "\n",
    "print(example,'\\n')\n",
    "print(tokens)"
   ]
  },
  {
   "cell_type": "markdown",
   "metadata": {},
   "source": [
    "### Step 3: Part of speech tagging\n",
    "\n",
    "#### The model makes a prediction of which tag or label most likely applies in this context. For example, a word following \"the\" in English is most likely a noun."
   ]
  },
  {
   "cell_type": "code",
   "execution_count": 12,
   "metadata": {},
   "outputs": [
    {
     "name": "stdout",
     "output_type": "stream",
     "text": [
      "I am already far north of London, and as I walk in the streets of Petersburgh, I feel a cold northern breeze play upon my cheeks, which braces my nerves and fills me with delight. \n",
      "\n",
      "[('I', 'PRON'), ('am', 'AUX'), ('already', 'ADV'), ('far', 'ADV'), ('north', 'ADV'), ('of', 'ADP'), ('London', 'PROPN'), (',', 'PUNCT'), ('and', 'CCONJ'), ('as', 'SCONJ'), ('I', 'PRON'), ('walk', 'VERB'), ('in', 'ADP'), ('the', 'DET'), ('streets', 'NOUN'), ('of', 'ADP'), ('Petersburgh', 'PROPN'), (',', 'PUNCT'), ('I', 'PRON'), ('feel', 'VERB'), ('a', 'DET'), ('cold', 'ADJ'), ('northern', 'ADJ'), ('breeze', 'NOUN'), ('play', 'NOUN'), ('upon', 'SCONJ'), ('my', 'PRON'), ('cheeks', 'NOUN'), (',', 'PUNCT'), ('which', 'PRON'), ('braces', 'VERB'), ('my', 'PRON'), ('nerves', 'NOUN'), ('and', 'CCONJ'), ('fills', 'VERB'), ('me', 'PRON'), ('with', 'ADP'), ('delight', 'NOUN'), ('.', 'PUNCT')]\n"
     ]
    }
   ],
   "source": [
    "pos_tagged = [(token.text, token.pos_) for token in doc]\n",
    "\n",
    "print(example,'\\n')\n",
    "print(pos_tagged)"
   ]
  },
  {
   "cell_type": "code",
   "execution_count": 13,
   "metadata": {},
   "outputs": [
    {
     "name": "stdout",
     "output_type": "stream",
     "text": [
      "coordinating conjunction\n",
      "adposition\n",
      "determiner\n"
     ]
    }
   ],
   "source": [
    "print(spacy.explain('CCONJ'))\n",
    "print(spacy.explain('ADP'))\n",
    "print(spacy.explain('DET'))"
   ]
  },
  {
   "cell_type": "markdown",
   "metadata": {},
   "source": [
    "### When unsure, see here for more details: http://universaldependencies.org/u/pos/all.html"
   ]
  },
  {
   "cell_type": "markdown",
   "metadata": {},
   "source": [
    "#### More detailed annotation:"
   ]
  },
  {
   "cell_type": "code",
   "execution_count": 14,
   "metadata": {},
   "outputs": [
    {
     "name": "stdout",
     "output_type": "stream",
     "text": [
      "[('I', 'PRP'), ('am', 'VBP'), ('already', 'RB'), ('far', 'RB'), ('north', 'RB'), ('of', 'IN'), ('London', 'NNP'), (',', ','), ('and', 'CC'), ('as', 'IN'), ('I', 'PRP'), ('walk', 'VBP'), ('in', 'IN'), ('the', 'DT'), ('streets', 'NNS'), ('of', 'IN'), ('Petersburgh', 'NNP'), (',', ','), ('I', 'PRP'), ('feel', 'VBP'), ('a', 'DT'), ('cold', 'JJ'), ('northern', 'JJ'), ('breeze', 'NN'), ('play', 'NN'), ('upon', 'IN'), ('my', 'PRP$'), ('cheeks', 'NNS'), (',', ','), ('which', 'WDT'), ('braces', 'VBZ'), ('my', 'PRP$'), ('nerves', 'NNS'), ('and', 'CC'), ('fills', 'VBZ'), ('me', 'PRP'), ('with', 'IN'), ('delight', 'NN'), ('.', '.')]\n"
     ]
    }
   ],
   "source": [
    "pos_tagged = [(token.text, token.tag_) for token in doc]\n",
    "\n",
    "print(pos_tagged)"
   ]
  },
  {
   "cell_type": "code",
   "execution_count": 15,
   "metadata": {},
   "outputs": [
    {
     "name": "stdout",
     "output_type": "stream",
     "text": [
      "pronoun, personal\n",
      "verb, non-3rd person singular present\n"
     ]
    }
   ],
   "source": [
    "print(spacy.explain('PRP'))\n",
    "print(spacy.explain('VBP'))"
   ]
  },
  {
   "cell_type": "markdown",
   "metadata": {},
   "source": [
    "### Step 4: Named entity recognition\n",
    "\n",
    "#### For example, a person, a country, a product or a book title. Spacy can recognise various types of named entities in a document. This doesn't always work perfectly and might need some tuning later, depending on your use case.\n",
    "\n",
    "Built in entity types: <br>\n",
    "\n",
    "PERSON  People, including fictional.  <br>\n",
    "NORP\tNationalities or religious or political groups. <br>\n",
    "FAC\tBuildings, airports, highways, bridges, etc. <br>\n",
    "ORG\tCompanies, agencies, institutions, etc. <br>\n",
    "GPE\tCountries, cities, states. <br>\n",
    "LOC\tNon-GPE locations, mountain ranges, bodies of water. <br>\n",
    "PRODUCT\tObjects, vehicles, foods, etc. (Not services.) <br>\n",
    "EVENT\tNamed hurricanes, battles, wars, sports events, etc. <br>\n",
    "WORK_OF_ART\tTitles of books, songs, etc. <br>\n",
    "LAW\tNamed documents made into laws. <br>\n",
    "LANGUAGE\tAny named language. <br>\n",
    "DATE\tAbsolute or relative dates or periods. <br>\n",
    "TIME\tTimes smaller than a day. <br>\n",
    "PERCENT\tPercentage, including \"%\". <br>\n",
    "MONEY\tMonetary values, including unit. <br>\n",
    "QUANTITY\tMeasurements, as of weight or distance. <br>\n",
    "ORDINAL\t\"first\", \"second\", etc. <br>\n",
    "CARDINAL\tNumerals that do not fall under another type. <br>"
   ]
  },
  {
   "cell_type": "code",
   "execution_count": 16,
   "metadata": {},
   "outputs": [
    {
     "name": "stdout",
     "output_type": "stream",
     "text": [
      "I am already far north of London, and as I walk in the streets of Petersburgh, I feel a cold northern breeze play upon my cheeks, which braces my nerves and fills me with delight. \n",
      "\n",
      "London GPE\n",
      "Petersburgh PERSON\n"
     ]
    }
   ],
   "source": [
    "print(example,'\\n')\n",
    "for ent in doc.ents:\n",
    "    print(ent.text, ent.label_)"
   ]
  },
  {
   "cell_type": "markdown",
   "metadata": {},
   "source": [
    "### Step 5: Removing stop words"
   ]
  },
  {
   "cell_type": "markdown",
   "metadata": {},
   "source": [
    "Let's check out all the stopwords:"
   ]
  },
  {
   "cell_type": "code",
   "execution_count": 17,
   "metadata": {},
   "outputs": [
    {
     "name": "stdout",
     "output_type": "stream",
     "text": [
      "Number of stop words: 326\n",
      "First ten stop words: ['same', 'own', 'yourself', 'nobody', 'say', 'another', 'each', 'more', 'than', 'should']\n"
     ]
    }
   ],
   "source": [
    "spacy_stopwords = spacy.lang.en.stop_words.STOP_WORDS\n",
    "print('Number of stop words: %d' % len(spacy_stopwords))\n",
    "print('First ten stop words:',list(spacy_stopwords)[:10])"
   ]
  },
  {
   "cell_type": "markdown",
   "metadata": {},
   "source": [
    "Detecting stopwords in the example:"
   ]
  },
  {
   "cell_type": "code",
   "execution_count": 18,
   "metadata": {},
   "outputs": [
    {
     "name": "stdout",
     "output_type": "stream",
     "text": [
      "I am already far north of London, and as I walk in the streets of Petersburgh, I feel a cold northern breeze play upon my cheeks, which braces my nerves and fills me with delight. \n",
      "\n",
      "['I', 'am', 'already', 'of', 'and', 'as', 'I', 'in', 'the', 'of', 'I', 'a', 'upon', 'my', 'which', 'my', 'and', 'me', 'with']\n"
     ]
    }
   ],
   "source": [
    "print(example,'\\n')\n",
    "\n",
    "stop_words = [token.text for token in doc if token.is_stop]\n",
    "\n",
    "print(stop_words)"
   ]
  },
  {
   "cell_type": "markdown",
   "metadata": {},
   "source": [
    "#### Sometimes it's useful to define a custom list of stopwords. Other solutions: https://www.ranks.nl/stopwords \n"
   ]
  },
  {
   "cell_type": "markdown",
   "metadata": {},
   "source": [
    "### Step 6: Lemmatization\n",
    "\n",
    "#### A rule-based deterministic lemmatizer maps the surface form of a token to a lemma."
   ]
  },
  {
   "cell_type": "code",
   "execution_count": 19,
   "metadata": {},
   "outputs": [
    {
     "name": "stdout",
     "output_type": "stream",
     "text": [
      "I am already far north of London, and as I walk in the streets of Petersburgh, I feel a cold northern breeze play upon my cheeks, which braces my nerves and fills me with delight. \n",
      "\n",
      "am ---> be\n",
      "streets ---> street\n",
      "cheeks ---> cheek\n",
      "braces ---> brace\n",
      "nerves ---> nerve\n",
      "fills ---> fill\n",
      "me ---> I\n"
     ]
    }
   ],
   "source": [
    "print(example,'\\n')\n",
    "for token in doc:\n",
    "    if token.text != token.lemma_:\n",
    "        print(token.text,'--->',token.lemma_)"
   ]
  },
  {
   "cell_type": "markdown",
   "metadata": {},
   "source": [
    "### Step 7: Chunking (shallow parsing)\n",
    "\n",
    "#### Noun chunks are \"base noun phrases\" – flat phrases that have a noun as their head -- a noun plus the words describing the noun – for example, \"the lavish green grass\" or \"the world’s largest tech fund\". "
   ]
  },
  {
   "cell_type": "code",
   "execution_count": 20,
   "metadata": {},
   "outputs": [
    {
     "name": "stdout",
     "output_type": "stream",
     "text": [
      "I am already far north of London, and as I walk in the streets of Petersburgh, I feel a cold northern breeze play upon my cheeks, which braces my nerves and fills me with delight. \n",
      "\n",
      "I\n",
      "London\n",
      "I\n",
      "the streets\n",
      "Petersburgh\n",
      "I\n",
      "a cold northern breeze play\n",
      "my cheeks\n",
      "which\n",
      "my nerves\n",
      "me\n",
      "delight\n"
     ]
    }
   ],
   "source": [
    "print(example,'\\n')\n",
    "\n",
    "for chunk in doc.noun_chunks:\n",
    "    print(chunk.text)"
   ]
  },
  {
   "cell_type": "markdown",
   "metadata": {},
   "source": [
    "### Step 8: Dependancy parsing\n",
    "\n",
    "#### The terms head and child describe the words connected by an arc in the dependency tree. The type of syntactic relation that connects the child to the head can be obtain through .dep_."
   ]
  },
  {
   "cell_type": "code",
   "execution_count": 21,
   "metadata": {},
   "outputs": [
    {
     "name": "stdout",
     "output_type": "stream",
     "text": [
      "I am already far north of London, and as I walk in the streets of Petersburgh, I feel a cold northern breeze play upon my cheeks, which braces my nerves and fills me with delight. \n",
      "\n",
      "Token: I Head: am Children: []\n",
      "Token: am Head: am Children: [I, already, north, ,, and, feel]\n",
      "Token: already Head: am Children: []\n",
      "Token: far Head: north Children: []\n",
      "Token: north Head: am Children: [far, of]\n",
      "Token: of Head: north Children: [London]\n",
      "Token: London Head: of Children: []\n",
      "Token: , Head: am Children: []\n",
      "Token: and Head: am Children: []\n",
      "Token: as Head: walk Children: []\n",
      "Token: I Head: walk Children: []\n",
      "Token: walk Head: feel Children: [as, I, in]\n",
      "Token: in Head: walk Children: [streets]\n",
      "Token: the Head: streets Children: []\n",
      "Token: streets Head: in Children: [the, of]\n",
      "Token: of Head: streets Children: [Petersburgh]\n",
      "Token: Petersburgh Head: of Children: []\n",
      "Token: , Head: feel Children: []\n",
      "Token: I Head: feel Children: []\n",
      "Token: feel Head: am Children: [walk, ,, I, play, .]\n",
      "Token: a Head: play Children: []\n",
      "Token: cold Head: breeze Children: []\n",
      "Token: northern Head: breeze Children: []\n",
      "Token: breeze Head: play Children: [cold, northern]\n",
      "Token: play Head: feel Children: [a, breeze, upon]\n",
      "Token: upon Head: play Children: [cheeks]\n",
      "Token: my Head: cheeks Children: []\n",
      "Token: cheeks Head: upon Children: [my, ,, braces]\n",
      "Token: , Head: cheeks Children: []\n",
      "Token: which Head: braces Children: []\n",
      "Token: braces Head: cheeks Children: [which, nerves, and, fills]\n",
      "Token: my Head: nerves Children: []\n",
      "Token: nerves Head: braces Children: [my]\n",
      "Token: and Head: braces Children: []\n",
      "Token: fills Head: braces Children: [me, with]\n",
      "Token: me Head: fills Children: []\n",
      "Token: with Head: fills Children: [delight]\n",
      "Token: delight Head: with Children: []\n",
      "Token: . Head: feel Children: []\n"
     ]
    }
   ],
   "source": [
    "print(example,'\\n')\n",
    "\n",
    "for token in doc:\n",
    "    print('Token:',token.text,'Head:',token.head.text, 'Children:',[child for child in token.children])"
   ]
  },
  {
   "cell_type": "markdown",
   "metadata": {},
   "source": [
    "### Counting word occurences"
   ]
  },
  {
   "cell_type": "code",
   "execution_count": 22,
   "metadata": {},
   "outputs": [
    {
     "name": "stdout",
     "output_type": "stream",
     "text": [
      "I am already far north of London, and as I walk in the streets of Petersburgh, I feel a cold northern breeze play upon my cheeks, which braces my nerves and fills me with delight. \n",
      "\n",
      "[('I', 3), (',', 3), ('of', 2), ('and', 2), ('my', 2), ('am', 1), ('already', 1), ('far', 1), ('north', 1), ('London', 1), ('as', 1), ('walk', 1), ('in', 1), ('the', 1), ('streets', 1), ('Petersburgh', 1), ('feel', 1), ('a', 1), ('cold', 1), ('northern', 1), ('breeze', 1), ('play', 1), ('upon', 1), ('cheeks', 1), ('which', 1), ('braces', 1), ('nerves', 1), ('fills', 1), ('me', 1), ('with', 1), ('delight', 1), ('.', 1)]\n"
     ]
    }
   ],
   "source": [
    "from collections import Counter\n",
    "\n",
    "print(example,'\\n')\n",
    "words = [token.text for token in doc]\n",
    "\n",
    "# five most common tokens\n",
    "word_freq = Counter(words)\n",
    "common_words = word_freq.most_common()\n",
    "\n",
    "print(common_words)"
   ]
  },
  {
   "cell_type": "markdown",
   "metadata": {},
   "source": [
    "### Without stop words and punctuation"
   ]
  },
  {
   "cell_type": "code",
   "execution_count": 23,
   "metadata": {},
   "outputs": [
    {
     "name": "stdout",
     "output_type": "stream",
     "text": [
      "[('far', 1), ('north', 1), ('London', 1), ('walk', 1), ('streets', 1), ('Petersburgh', 1), ('feel', 1), ('cold', 1), ('northern', 1), ('breeze', 1), ('play', 1), ('cheeks', 1), ('braces', 1), ('nerves', 1), ('fills', 1), ('delight', 1)]\n"
     ]
    }
   ],
   "source": [
    "words = [token.text for token in doc if token.is_stop != True and token.is_punct != True]\n",
    "\n",
    "# five most common tokens\n",
    "word_freq = Counter(words)\n",
    "common_words = word_freq.most_common()\n",
    "\n",
    "print(common_words)"
   ]
  },
  {
   "cell_type": "markdown",
   "metadata": {},
   "source": [
    "## Putting all the components together"
   ]
  },
  {
   "cell_type": "markdown",
   "metadata": {},
   "source": [
    "### Under the hood: the pipeline [\"tokenizer\",\"tagger\", \"parser\", \"ner\"]."
   ]
  },
  {
   "cell_type": "markdown",
   "metadata": {},
   "source": [
    "#### The NLP pipeline with Spacy\n",
    "<img src=\"spacy.png\">"
   ]
  },
  {
   "cell_type": "code",
   "execution_count": 24,
   "metadata": {},
   "outputs": [],
   "source": [
    "nlp = spacy.load('en_core_web_sm')"
   ]
  },
  {
   "cell_type": "markdown",
   "metadata": {},
   "source": [
    "### If you don't need a particular component of the pipeline – for example, the tagger or the parser, you can disable loading it. This can sometimes make a big difference and improve loading speed. "
   ]
  },
  {
   "cell_type": "code",
   "execution_count": 25,
   "metadata": {},
   "outputs": [
    {
     "data": {
      "text/plain": [
       "('tagger', <spacy.pipeline.tagger.Tagger at 0x132a20830>)"
      ]
     },
     "execution_count": 25,
     "metadata": {},
     "output_type": "execute_result"
    }
   ],
   "source": [
    "nlp.remove_pipe('parser')\n",
    "nlp.remove_pipe('tagger')"
   ]
  },
  {
   "cell_type": "markdown",
   "metadata": {},
   "source": [
    "# Task 1: Sentiment analysis"
   ]
  },
  {
   "cell_type": "markdown",
   "metadata": {},
   "source": [
    "### Initialize the analyzer. Typically used for data from social media (short sentences)."
   ]
  },
  {
   "cell_type": "code",
   "execution_count": 26,
   "metadata": {},
   "outputs": [],
   "source": [
    "analyzer = SentimentIntensityAnalyzer()\n",
    "vs = analyzer.polarity_scores(example)"
   ]
  },
  {
   "cell_type": "markdown",
   "metadata": {},
   "source": [
    "### The sentiment score consits of four values. Neutral, positive and negative sum to one. The final score is obtained by thresholding the compound value (e.g. +/-0.05)."
   ]
  },
  {
   "cell_type": "code",
   "execution_count": 27,
   "metadata": {},
   "outputs": [
    {
     "name": "stdout",
     "output_type": "stream",
     "text": [
      "I am already far north of London, and as I walk in the streets of Petersburgh, I feel a cold northern breeze play upon my cheeks, which braces my nerves and fills me with delight. \n",
      "\n",
      "Negative sentiment: 0.035\n",
      "Neutral sentiment: 0.806\n",
      "Positive sentiment: 0.159\n",
      "Compound sentiment: 0.7096\n"
     ]
    }
   ],
   "source": [
    "print(example, '\\n')\n",
    "print('Negative sentiment:',vs['neg'])\n",
    "print('Neutral sentiment:',vs['neu'])\n",
    "print('Positive sentiment:',vs['pos'])\n",
    "print('Compound sentiment:',vs['compound'])"
   ]
  },
  {
   "cell_type": "markdown",
   "metadata": {},
   "source": [
    "### We can now observe the distributions of sentiment across all sentences in the book Pride and Prejudice:"
   ]
  },
  {
   "cell_type": "code",
   "execution_count": 28,
   "metadata": {},
   "outputs": [],
   "source": [
    "nlp = spacy.load('en_core_web_sm')\n",
    "doc = nlp(books[3])"
   ]
  },
  {
   "cell_type": "code",
   "execution_count": 29,
   "metadata": {},
   "outputs": [
    {
     "data": {
      "text/plain": [
       "Text(0, 0.5, 'Number of sentences')"
      ]
     },
     "execution_count": 29,
     "metadata": {},
     "output_type": "execute_result"
    },
    {
     "data": {
      "image/png": "[encoded data removed]",
      "text/plain": [
       "<Figure size 640x480 with 1 Axes>"
      ]
     },
     "metadata": {},
     "output_type": "display_data"
    }
   ],
   "source": [
    "positive_sent = []\n",
    "#iterate through the sentences, get polarity scores, choose a value\n",
    "[positive_sent.append(analyzer.polarity_scores(sent.text)['pos']) for sent in doc.sents]\n",
    "plt.hist(positive_sent,bins=15)\n",
    "plt.xlim([0,1])\n",
    "plt.ylim([0,8000])\n",
    "plt.xlabel('Positive sentiment')\n",
    "plt.ylabel('Number of sentences')"
   ]
  },
  {
   "cell_type": "code",
   "execution_count": 30,
   "metadata": {},
   "outputs": [
    {
     "data": {
      "text/plain": [
       "Text(0, 0.5, 'Number of sentences')"
      ]
     },
     "execution_count": 30,
     "metadata": {},
     "output_type": "execute_result"
    },
    {
     "data": {
      "image/png": "[encoded data removed]",
      "text/plain": [
       "<Figure size 640x480 with 1 Axes>"
      ]
     },
     "metadata": {},
     "output_type": "display_data"
    }
   ],
   "source": [
    "negative_sent = []\n",
    "[negative_sent.append(analyzer.polarity_scores(sent.text)['neg']) for sent in doc.sents]\n",
    "plt.hist(negative_sent,bins=15)\n",
    "plt.xlim([0,1])\n",
    "plt.ylim([0,8000])\n",
    "plt.xlabel('Negative sentiment')\n",
    "plt.ylabel('Number of sentences')"
   ]
  },
  {
   "cell_type": "code",
   "execution_count": 31,
   "metadata": {},
   "outputs": [
    {
     "data": {
      "text/plain": [
       "Text(0, 0.5, 'Number of sentences')"
      ]
     },
     "execution_count": 31,
     "metadata": {},
     "output_type": "execute_result"
    },
    {
     "data": {
      "image/png": "[encoded data removed]",
      "text/plain": [
       "<Figure size 640x480 with 1 Axes>"
      ]
     },
     "metadata": {},
     "output_type": "display_data"
    }
   ],
   "source": [
    "total_sent = []\n",
    "[total_sent.append(analyzer.polarity_scores(sent.text)['compound']) for sent in doc.sents]\n",
    "plt.hist(total_sent,bins = 15)\n",
    "plt.xlim([-1,1])\n",
    "plt.ylim([0,8000])\n",
    "plt.xlabel('Compound sentiment')\n",
    "plt.ylabel('Number of sentences')"
   ]
  },
  {
   "cell_type": "code",
   "execution_count": 32,
   "metadata": {},
   "outputs": [
    {
     "name": "stdout",
     "output_type": "stream",
     "text": [
      "Number of positive sentences: 2730\n",
      "Number of negative sentences: 1342\n",
      "Number of neutral sentences: 1875\n"
     ]
    }
   ],
   "source": [
    "sents = [analyzer.polarity_scores(sent.text)['compound'] for sent in doc.sents]\n",
    "print('Number of positive sentences:',sum(np.array(sents)>=0.05))\n",
    "print('Number of negative sentences:',sum(np.array(sents)<=-0.05))\n",
    "print('Number of neutral sentences:',sum(np.abs(np.array(sents))<0.05))"
   ]
  },
  {
   "cell_type": "markdown",
   "metadata": {},
   "source": [
    "#### Most of the sentences are quite neutral in sentiment. This is not the case when working with data from other sources (e.g., in social media opinions are strong and polarized (bimodal distribution))."
   ]
  },
  {
   "cell_type": "markdown",
   "metadata": {},
   "source": [
    "# Task 2: Document classification: Can we detect paragraphs from Frankenstein?"
   ]
  },
  {
   "cell_type": "code",
   "execution_count": 33,
   "metadata": {},
   "outputs": [
    {
     "name": "stdout",
     "output_type": "stream",
     "text": [
      "['DRACULA.txt', 'Frankenstein.txt', 'Moby_Dick.txt', 'PRIDE_AND_PREJUDICE.txt']\n"
     ]
    },
    {
     "name": "stdout",
     "output_type": "stream",
     "text": [
      "\u001b[0;31mInit signature:\u001b[0m\n",
      "\u001b[0mPlaintextCorpusReader\u001b[0m\u001b[0;34m(\u001b[0m\u001b[0;34m\u001b[0m\n",
      "\u001b[0;34m\u001b[0m    \u001b[0mroot\u001b[0m\u001b[0;34m,\u001b[0m\u001b[0;34m\u001b[0m\n",
      "\u001b[0;34m\u001b[0m    \u001b[0mfileids\u001b[0m\u001b[0;34m,\u001b[0m\u001b[0;34m\u001b[0m\n",
      "\u001b[0;34m\u001b[0m    \u001b[0mword_tokenizer\u001b[0m\u001b[0;34m=\u001b[0m\u001b[0mWordPunctTokenizer\u001b[0m\u001b[0;34m(\u001b[0m\u001b[0mpattern\u001b[0m\u001b[0;34m=\u001b[0m\u001b[0;34m'\\\\w+|[^\\\\w\\\\s]+'\u001b[0m\u001b[0;34m,\u001b[0m \u001b[0mgaps\u001b[0m\u001b[0;34m=\u001b[0m\u001b[0;32mFalse\u001b[0m\u001b[0;34m,\u001b[0m \u001b[0mdiscard_empty\u001b[0m\u001b[0;34m=\u001b[0m\u001b[0;32mTrue\u001b[0m\u001b[0;34m,\u001b[0m \u001b[0mflags\u001b[0m\u001b[0;34m=\u001b[0m\u001b[0mre\u001b[0m\u001b[0;34m.\u001b[0m\u001b[0mUNICODE\u001b[0m\u001b[0;34m|\u001b[0m\u001b[0mre\u001b[0m\u001b[0;34m.\u001b[0m\u001b[0mMULTILINE\u001b[0m\u001b[0;34m|\u001b[0m\u001b[0mre\u001b[0m\u001b[0;34m.\u001b[0m\u001b[0mDOTALL\u001b[0m\u001b[0;34m)\u001b[0m\u001b[0;34m,\u001b[0m\u001b[0;34m\u001b[0m\n",
      "\u001b[0;34m\u001b[0m    \u001b[0msent_tokenizer\u001b[0m\u001b[0;34m=\u001b[0m\u001b[0;32mNone\u001b[0m\u001b[0;34m,\u001b[0m\u001b[0;34m\u001b[0m\n",
      "\u001b[0;34m\u001b[0m    \u001b[0mpara_block_reader\u001b[0m\u001b[0;34m=\u001b[0m\u001b[0;34m<\u001b[0m\u001b[0mfunction\u001b[0m \u001b[0mread_blankline_block\u001b[0m \u001b[0mat\u001b[0m \u001b[0;36m0x130d0fce0\u001b[0m\u001b[0;34m>\u001b[0m\u001b[0;34m,\u001b[0m\u001b[0;34m\u001b[0m\n",
      "\u001b[0;34m\u001b[0m    \u001b[0mencoding\u001b[0m\u001b[0;34m=\u001b[0m\u001b[0;34m'utf8'\u001b[0m\u001b[0;34m,\u001b[0m\u001b[0;34m\u001b[0m\n",
      "\u001b[0;34m\u001b[0m\u001b[0;34m)\u001b[0m\u001b[0;34m\u001b[0m\u001b[0;34m\u001b[0m\u001b[0m\n",
      "\u001b[0;31mDocstring:\u001b[0m     \n",
      "Reader for corpora that consist of plaintext documents.  Paragraphs\n",
      "are assumed to be split using blank lines.  Sentences and words can\n",
      "be tokenized using the default tokenizers, or by custom tokenizers\n",
      "specified as parameters to the constructor.\n",
      "\n",
      "This corpus reader can be customized (e.g., to skip preface\n",
      "sections of specific document formats) by creating a subclass and\n",
      "overriding the ``CorpusView`` class variable.\n",
      "\u001b[0;31mInit docstring:\u001b[0m\n",
      "Construct a new plaintext corpus reader for a set of documents\n",
      "located at the given root directory.  Example usage:\n",
      "\n",
      "    >>> root = '/usr/local/share/nltk_data/corpora/webtext/'\n",
      "    >>> reader = PlaintextCorpusReader(root, '.*\\.txt') # doctest: +SKIP\n",
      "\n",
      ":param root: The root directory for this corpus.\n",
      ":param fileids: A list or regexp specifying the fileids in this corpus.\n",
      ":param word_tokenizer: Tokenizer for breaking sentences or\n",
      "    paragraphs into words.\n",
      ":param sent_tokenizer: Tokenizer for breaking paragraphs\n",
      "    into words.\n",
      ":param para_block_reader: The block reader used to divide the\n",
      "    corpus into paragraph blocks.\n",
      "\u001b[0;31mFile:\u001b[0m           /Library/Frameworks/Python.framework/Versions/3.12/lib/python3.12/site-packages/nltk/corpus/reader/plaintext.py\n",
      "\u001b[0;31mType:\u001b[0m           type\n",
      "\u001b[0;31mSubclasses:\u001b[0m     CategorizedPlaintextCorpusReader, EuroparlCorpusReader, UdhrCorpusReader"
     ]
    }
   ],
   "source": [
    "# Let's load our corpus via NLTK this time\n",
    "from nltk.corpus import PlaintextCorpusReader\n",
    "?PlaintextCorpusReader\n",
    "our_books = PlaintextCorpusReader(corpus_root, '.*.txt')\n",
    "print(our_books.fileids())"
   ]
  },
  {
   "cell_type": "markdown",
   "metadata": {},
   "source": [
    "### We will segment the books into equally long chunks"
   ]
  },
  {
   "cell_type": "code",
   "execution_count": 47,
   "metadata": {},
   "outputs": [
    {
     "name": "stderr",
     "output_type": "stream",
     "text": [
      "[nltk_data] Downloading package punkt_tab to /Users/lara/nltk_data...\n",
      "[nltk_data]   Unzipping tokenizers/punkt_tab.zip.\n"
     ]
    },
    {
     "name": "stdout",
     "output_type": "stream",
     "text": [
      "DRACULA.txt :\n",
      "Number of sentences: 9303\n",
      "Number of chunks: 187 \n",
      "\n",
      "Frankenstein.txt :\n",
      "Number of sentences: 3378\n",
      "Number of chunks: 68 \n",
      "\n",
      "Moby_Dick.txt :\n",
      "Number of sentences: 9609\n",
      "Number of chunks: 193 \n",
      "\n",
      "PRIDE_AND_PREJUDICE.txt :\n",
      "Number of sentences: 6055\n",
      "Number of chunks: 122 \n",
      "\n"
     ]
    }
   ],
   "source": [
    "nltk.download('punkt_tab')\n",
    "\n",
    "def get_chunks(l, n):\n",
    "    \"\"\"Yield successive n-sized chunks from l.\"\"\"\n",
    "    for i in range(0, len(l), n):\n",
    "        yield l[i:i + n]\n",
    "\n",
    "\n",
    "# Get the data\n",
    "book_id = {f:n for n,f in enumerate(our_books.fileids())} # dictionary of books\n",
    "\n",
    "chunks = list()\n",
    "chunk_class = list() # this list contains the original book of the chunk, for evaluation\n",
    "\n",
    "limit = 500 # how many chunks total\n",
    "size = 50 # how many sentences per chunk/page\n",
    "\n",
    "for f in our_books.fileids():\n",
    "    sentences = our_books.sents(f)\n",
    "    print(f,\":\")\n",
    "    print('Number of sentences:',len(sentences))\n",
    "    \n",
    "    # create chunks\n",
    "    chunks_of_sents = [x for x in get_chunks(sentences,size)] # this is a list of lists of sentences, which are a list of tokens\n",
    "    chs = list()\n",
    "    \n",
    "    # regroup so to have a list of chunks which are strings\n",
    "    for c in chunks_of_sents:\n",
    "        grouped_chunk = list()\n",
    "        for s in c:\n",
    "            grouped_chunk.extend(s)\n",
    "        chs.append(\" \".join(grouped_chunk))\n",
    "    print(\"Number of chunks:\",len(chs),'\\n')\n",
    "    \n",
    "    # filter to the limit, to have the same number of chunks per book\n",
    "    chunks.extend(chs[:limit])\n",
    "    chunk_class.extend([book_id[f] for _ in range(len(chs[:limit]))])"
   ]
  },
  {
   "cell_type": "markdown",
   "metadata": {},
   "source": [
    "### Representing the chunks with bag-of-words"
   ]
  },
  {
   "cell_type": "code",
   "execution_count": 48,
   "metadata": {},
   "outputs": [
    {
     "name": "stdout",
     "output_type": "stream",
     "text": [
      "Number of samples: 570\n",
      "Number of features: 23116\n"
     ]
    }
   ],
   "source": [
    "vectorizer = CountVectorizer()\n",
    "\n",
    "#initialize and specify minumum number of occurences to avoid untractable number of features\n",
    "#vectorizer = CountVectorizer(min_df = 2) if we want high frequency\n",
    "\n",
    "#create bag of words features\n",
    "X = vectorizer.fit_transform(chunks)\n",
    "\n",
    "print('Number of samples:',X.toarray().shape[0])\n",
    "print('Number of features:',X.toarray().shape[1])\n",
    "\n",
    "#mask and convert to int Frankenstein\n",
    "Y = np.array(chunk_class) == 1\n",
    "Y = Y.astype(int)  \n",
    "\n",
    "#shuffle the data\n",
    "X, Y = shuffle(X, Y, random_state=0)\n",
    "\n",
    "#split into training and test set\n",
    "X_train, X_test, Y_train, Y_test = train_test_split(X, Y, test_size=0.2, random_state=42)"
   ]
  },
  {
   "cell_type": "markdown",
   "metadata": {},
   "source": [
    "### Let's fit the regularized logistic regression. We will crossvalidate the regularization parameter on the training set."
   ]
  },
  {
   "cell_type": "code",
   "execution_count": 49,
   "metadata": {},
   "outputs": [],
   "source": [
    "accs = []\n",
    "\n",
    "#the grid of regularization parameter \n",
    "grid = [0.01,0.1,1,10,100,1000,10000]\n",
    "\n",
    "for c in grid:\n",
    "    \n",
    "    #initialize the classifier\n",
    "    clf = LogisticRegression(random_state=0, solver='lbfgs',C = c)\n",
    "    \n",
    "    #crossvalidate\n",
    "    scores = cross_val_score(clf, X_train,Y_train, cv=10)\n",
    "    accs.append(np.mean(scores))"
   ]
  },
  {
   "cell_type": "code",
   "execution_count": 107,
   "metadata": {},
   "outputs": [
    {
     "data": {
      "text/plain": [
       "(0.986, 1.0)"
      ]
     },
     "execution_count": 107,
     "metadata": {},
     "output_type": "execute_result"
    },
    {
     "data": {
      "image/png": "[encoded data removed]",
      "text/plain": [
       "<Figure size 640x480 with 1 Axes>"
      ]
     },
     "metadata": {},
     "output_type": "display_data"
    }
   ],
   "source": [
    "plt.plot(accs)\n",
    "plt.xticks(range(len(grid)), grid)\n",
    "plt.xlabel('Regularization parameter \\n (Low - strong regularization, High - weak regularization)')\n",
    "plt.ylabel('Crossvalidation accuracy')\n",
    "plt.ylim([0.986,1])"
   ]
  },
  {
   "cell_type": "markdown",
   "metadata": {},
   "source": [
    "### Let's train again, on the entire training set, with the chosen regularization parameter. We will test on the test set"
   ]
  },
  {
   "cell_type": "code",
   "execution_count": 51,
   "metadata": {},
   "outputs": [
    {
     "name": "stdout",
     "output_type": "stream",
     "text": [
      "Accuracy: 0.9912280701754386\n"
     ]
    }
   ],
   "source": [
    "clf = LogisticRegression(random_state=0, solver='lbfgs',C = 10).fit(X_train,Y_train)\n",
    "\n",
    "#predict on the test set\n",
    "print('Accuracy:',clf.score(X_test,Y_test))"
   ]
  },
  {
   "cell_type": "markdown",
   "metadata": {},
   "source": [
    "### What features characterize Frankenstein? BOW are interpretable!"
   ]
  },
  {
   "cell_type": "code",
   "execution_count": 53,
   "metadata": {},
   "outputs": [
    {
     "name": "stdout",
     "output_type": "stream",
     "text": [
      "['ice' 'although' 'by' 'several' 'appeared' 'should' 'misery' 'our' 'who'\n",
      " 'had' 'of' 'poor' 'but' 'justine' 'my' 'this' 'father' 'and' 'yet'\n",
      " 'which']\n"
     ]
    }
   ],
   "source": [
    "coefs=clf.coef_[0]\n",
    "top_three = np.argpartition(coefs, -20)[-20:]\n",
    "\n",
    "print(np.array(vectorizer.get_feature_names_out())[top_three])"
   ]
  },
  {
   "cell_type": "markdown",
   "metadata": {},
   "source": [
    "### We can perfectly predict paragraphs from Frankenstein! We saw issues of high dimensionality when using bag of words (more features than samples) and how regularization helps."
   ]
  },
  {
   "cell_type": "markdown",
   "metadata": {},
   "source": [
    "### Alternative text representation: word emdeddings, pretrained on intergraded in Spacy (300-dimensional word vectors trained on Common Crawl with GloVe.) Depending on the application, might be suitable or not"
   ]
  },
  {
   "cell_type": "code",
   "execution_count": 54,
   "metadata": {},
   "outputs": [
    {
     "name": "stdout",
     "output_type": "stream",
     "text": [
      "I am already far north of London, and as I walk in the streets of Petersburgh, I feel a cold northern breeze play upon my cheeks, which braces my nerves and fills me with delight. \n",
      "\n",
      "Embedding representation: [0.16169657, -0.051652975, -0.17214082, -0.095005296, 0.09987936, -0.09646795, 0.32181388, -0.18310118, 0.30630514, -0.1133452] ...\n"
     ]
    }
   ],
   "source": [
    "print(example,'\\n')\n",
    "print('Embedding representation:',list((nlp(example).vector)[0:10]),'...')"
   ]
  },
  {
   "cell_type": "markdown",
   "metadata": {},
   "source": [
    "# Task 3: Topic detection"
   ]
  },
  {
   "cell_type": "code",
   "execution_count": 55,
   "metadata": {},
   "outputs": [
    {
     "name": "stdout",
     "output_type": "stream",
     "text": [
      "DRACULA.txt\n",
      "Number of sentences: 9303\n",
      "Number of chunks: 187 \n",
      "\n",
      "Frankenstein.txt\n",
      "Number of sentences: 3378\n",
      "Number of chunks: 68 \n",
      "\n",
      "Moby_Dick.txt\n",
      "Number of sentences: 9609\n",
      "Number of chunks: 193 \n",
      "\n",
      "PRIDE_AND_PREJUDICE.txt\n",
      "Number of sentences: 6055\n",
      "Number of chunks: 122 \n",
      "\n"
     ]
    }
   ],
   "source": [
    "# Get the chunks again (into smaller chunks)\n",
    "book_id = {f:n for n,f in enumerate(our_books.fileids())} # dictionary of books\n",
    "chunks = list()\n",
    "chunk_class = list() # this list contains the original book of the chunk, for evaluation\n",
    "\n",
    "limit = 60 # how many chunks total\n",
    "size = 50 # how many sentences per chunk/page\n",
    "\n",
    "for f in our_books.fileids():\n",
    "    sentences = our_books.sents(f)\n",
    "    print(f)\n",
    "    print('Number of sentences:',len(sentences))\n",
    "    \n",
    "    # create chunks\n",
    "    chunks_of_sents = [x for x in get_chunks(sentences,size)] # this is a list of lists of sentences, which are a list of tokens\n",
    "    chs = list()\n",
    "    \n",
    "    # regroup so to have a list of chunks which are strings\n",
    "    for c in chunks_of_sents:\n",
    "        grouped_chunk = list()\n",
    "        for s in c:\n",
    "            grouped_chunk.extend(s)\n",
    "        chs.append(\" \".join(grouped_chunk))\n",
    "    print(\"Number of chunks:\",len(chs),'\\n')\n",
    "    \n",
    "    # filter to the limit, to have the same number of chunks per book\n",
    "    chunks.extend(chs[:limit])\n",
    "    chunk_class.extend([book_id[f] for _ in range(len(chs[:limit]))])"
   ]
  },
  {
   "cell_type": "code",
   "execution_count": 56,
   "metadata": {},
   "outputs": [],
   "source": [
    "STOPWORDS = spacy.lang.en.stop_words.STOP_WORDS\n",
    "\n",
    "processed_docs = list()\n",
    "for doc in nlp.pipe(chunks, n_process=5, batch_size=10):\n",
    "\n",
    "    # Process document using Spacy NLP pipeline.\n",
    "    ents = doc.ents  # Named entities\n",
    "\n",
    "    # Keep only words (no numbers, no punctuation).\n",
    "    # Lemmatize tokens, remove punctuation and remove stopwords.\n",
    "    doc = [token.lemma_ for token in doc if token.is_alpha and not token.is_stop]\n",
    "\n",
    "    # Remove common words from a stopword list and keep only words of length 3 or more.\n",
    "    doc = [token for token in doc if token not in STOPWORDS and len(token) > 2]\n",
    "\n",
    "    # Add named entities, but only if they are a compound of more than word.\n",
    "    doc.extend([str(entity) for entity in ents if len(entity) > 1])\n",
    "\n",
    "    processed_docs.append(doc)\n",
    "docs = processed_docs\n",
    "del processed_docs"
   ]
  },
  {
   "cell_type": "code",
   "execution_count": 57,
   "metadata": {},
   "outputs": [],
   "source": [
    "# Add bigrams too\n",
    "from gensim.models.phrases import Phrases\n",
    "\n",
    "# Add bigrams to docs (only ones that appear 15 times or more).\n",
    "bigram = Phrases(docs, min_count=15)\n",
    "\n",
    "for idx in range(len(docs)):\n",
    "    for token in bigram[docs[idx]]:\n",
    "        if '_' in token:\n",
    "            # Token is a bigram, add to document.\n",
    "            docs[idx].append(token)"
   ]
  },
  {
   "cell_type": "code",
   "execution_count": 58,
   "metadata": {},
   "outputs": [
    {
     "name": "stdout",
     "output_type": "stream",
     "text": [
      "Number of unique tokens: 3092\n",
      "Number of chunks: 240\n"
     ]
    }
   ],
   "source": [
    "# Create a dictionary representation of the documents, and filter out frequent and rare words.\n",
    "from gensim.corpora import Dictionary\n",
    "dictionary = Dictionary(docs)\n",
    "\n",
    "# Remove rare and common tokens.\n",
    "# Filter out words that occur too frequently or too rarely.\n",
    "max_freq = 0.5\n",
    "min_wordcount = 5\n",
    "dictionary.filter_extremes(no_below=min_wordcount, no_above=max_freq)\n",
    "\n",
    "# Bag-of-words representation of the documents.\n",
    "corpus = [dictionary.doc2bow(doc) for doc in docs]\n",
    "#MmCorpus.serialize(\"models/corpus.mm\", corpus)\n",
    "\n",
    "print('Number of unique tokens: %d' % len(dictionary))\n",
    "print('Number of chunks: %d' % len(corpus))"
   ]
  },
  {
   "cell_type": "code",
   "execution_count": 59,
   "metadata": {},
   "outputs": [],
   "source": [
    "# models\n",
    "from gensim.models import LdaMulticore\n",
    "params = {'passes': 10, 'random_state': seed}\n",
    "base_models = dict()\n",
    "model = LdaMulticore(corpus=corpus, num_topics=4, id2word=dictionary, workers=6,\n",
    "                passes=params['passes'], random_state=params['random_state'])"
   ]
  },
  {
   "cell_type": "code",
   "execution_count": 60,
   "metadata": {},
   "outputs": [
    {
     "data": {
      "text/plain": [
       "[(0,\n",
       "  '0.008*\"room\" + 0.007*\"door\" + 0.007*\"sleep\" + 0.006*\"Lucy\" + 0.006*\"old\"'),\n",
       " (1,\n",
       "  '0.016*\"Elizabeth\" + 0.011*\"Darcy\" + 0.010*\"Bingley\" + 0.009*\"Miss\" + 0.009*\"Mrs\"'),\n",
       " (2,\n",
       "  '0.020*\"whale\" + 0.012*\"ship\" + 0.010*\"sea\" + 0.008*\"Queequeg\" + 0.008*\"old\"'),\n",
       " (3,\n",
       "  '0.006*\"father\" + 0.005*\"life\" + 0.004*\"feeling\" + 0.004*\"mind\" + 0.004*\"appear\"')]"
      ]
     },
     "execution_count": 60,
     "metadata": {},
     "output_type": "execute_result"
    }
   ],
   "source": [
    "model.show_topics(num_words=5)"
   ]
  },
  {
   "cell_type": "code",
   "execution_count": 61,
   "metadata": {},
   "outputs": [
    {
     "data": {
      "text/plain": [
       "[('Elizabeth', 0.015765958),\n",
       " ('Darcy', 0.0112242745),\n",
       " ('Bingley', 0.010057978),\n",
       " ('Miss', 0.009154547),\n",
       " ('Mrs', 0.00865392),\n",
       " ('Bennet', 0.008147513),\n",
       " ('sister', 0.007764635),\n",
       " ('Collins', 0.007181083),\n",
       " ('Jane', 0.0069901138),\n",
       " ('young', 0.0058986917),\n",
       " ('lady', 0.0050209733),\n",
       " ('wish', 0.0049363864),\n",
       " ('dear', 0.0047335573),\n",
       " ('room', 0.004442433),\n",
       " ('hope', 0.004374427),\n",
       " ('Lady', 0.004295436),\n",
       " ('manner', 0.0041416306),\n",
       " ('mean', 0.003857675),\n",
       " ('family', 0.003851742),\n",
       " ('Catherine', 0.0038301435)]"
      ]
     },
     "execution_count": 61,
     "metadata": {},
     "output_type": "execute_result"
    }
   ],
   "source": [
    "model.show_topic(1,20)"
   ]
  },
  {
   "cell_type": "code",
   "execution_count": 62,
   "metadata": {},
   "outputs": [
    {
     "data": {
      "text/plain": [
       "[(0, 0.9972275)]"
      ]
     },
     "execution_count": 62,
     "metadata": {},
     "output_type": "execute_result"
    }
   ],
   "source": [
    "sorted(model[corpus[0]],key=lambda x:x[1],reverse=True)"
   ]
  },
  {
   "cell_type": "code",
   "execution_count": 63,
   "metadata": {},
   "outputs": [
    {
     "name": "stderr",
     "output_type": "stream",
     "text": [
      "/Library/Frameworks/Python.framework/Versions/3.12/lib/python3.12/site-packages/joblib/externals/loky/backend/fork_exec.py:38: DeprecationWarning: This process (pid=14150) is multi-threaded, use of fork() may lead to deadlocks in the child.\n",
      "  pid = os.fork()\n",
      "/Library/Frameworks/Python.framework/Versions/3.12/lib/python3.12/site-packages/joblib/externals/loky/backend/fork_exec.py:38: DeprecationWarning: This process (pid=14150) is multi-threaded, use of fork() may lead to deadlocks in the child.\n",
      "  pid = os.fork()\n",
      "/Library/Frameworks/Python.framework/Versions/3.12/lib/python3.12/site-packages/joblib/externals/loky/backend/fork_exec.py:38: DeprecationWarning: This process (pid=14150) is multi-threaded, use of fork() may lead to deadlocks in the child.\n",
      "  pid = os.fork()\n",
      "/Library/Frameworks/Python.framework/Versions/3.12/lib/python3.12/site-packages/joblib/externals/loky/backend/fork_exec.py:38: DeprecationWarning: This process (pid=14150) is multi-threaded, use of fork() may lead to deadlocks in the child.\n",
      "  pid = os.fork()\n",
      "/Library/Frameworks/Python.framework/Versions/3.12/lib/python3.12/site-packages/joblib/externals/loky/backend/fork_exec.py:38: DeprecationWarning: This process (pid=14150) is multi-threaded, use of fork() may lead to deadlocks in the child.\n",
      "  pid = os.fork()\n",
      "/Users/lara/Library/Python/3.12/lib/python/site-packages/dateutil/tz/tz.py:37: DeprecationWarning: datetime.datetime.utcfromtimestamp() is deprecated and scheduled for removal in a future version. Use timezone-aware objects to represent datetimes in UTC: datetime.datetime.fromtimestamp(timestamp, datetime.UTC).\n",
      "  EPOCH = datetime.datetime.utcfromtimestamp(0)\n",
      "/Users/lara/Library/Python/3.12/lib/python/site-packages/dateutil/tz/tz.py:37: DeprecationWarning: datetime.datetime.utcfromtimestamp() is deprecated and scheduled for removal in a future version. Use timezone-aware objects to represent datetimes in UTC: datetime.datetime.fromtimestamp(timestamp, datetime.UTC).\n",
      "  EPOCH = datetime.datetime.utcfromtimestamp(0)\n",
      "/Users/lara/Library/Python/3.12/lib/python/site-packages/dateutil/tz/tz.py:37: DeprecationWarning: datetime.datetime.utcfromtimestamp() is deprecated and scheduled for removal in a future version. Use timezone-aware objects to represent datetimes in UTC: datetime.datetime.fromtimestamp(timestamp, datetime.UTC).\n",
      "  EPOCH = datetime.datetime.utcfromtimestamp(0)\n",
      "/Users/lara/Library/Python/3.12/lib/python/site-packages/dateutil/tz/tz.py:37: DeprecationWarning: datetime.datetime.utcfromtimestamp() is deprecated and scheduled for removal in a future version. Use timezone-aware objects to represent datetimes in UTC: datetime.datetime.fromtimestamp(timestamp, datetime.UTC).\n",
      "  EPOCH = datetime.datetime.utcfromtimestamp(0)\n"
     ]
    },
    {
     "data": {
      "text/html": [
       "\n",
       "<link rel=\"stylesheet\" type=\"text/css\" href=\"https://cdn.jsdelivr.net/gh/bmabey/pyLDAvis@3.4.0/pyLDAvis/js/ldavis.v1.0.0.css\">\n",
       "\n",
       "\n",
       "<div id=\"ldavis_el1415051443060006394267984\" style=\"background-color:white;\"></div>\n",
       "<script type=\"text/javascript\">\n",
       "\n",
       "var ldavis_el1415051443060006394267984_data = {\"mdsDat\": {\"x\": [-0.16510199998756445, -0.03967372958461171, 0.14190874174541565, 0.0628669878267605], \"y\": [-0.07291794911407404, 0.11091530056334487, -0.06641675192039902, 0.028419400471128148], \"topics\": [1, 2, 3, 4], \"cluster\": [1, 1, 1, 1], \"Freq\": [27.70847577132892, 27.57604975043385, 22.681041751948374, 22.034432726288852]}, \"tinfo\": {\"Term\": [\"whale\", \"Elizabeth\", \"Darcy\", \"ship\", \"Bingley\", \"Miss\", \"Bennet\", \"Collins\", \"Jane\", \"Queequeg\", \"Mrs\", \"sea\", \"Captain\", \"Ahab\", \"Lucy\", \"sister\", \"Count\", \"room\", \"old\", \"sleep\", \"Bildad\", \"Lady\", \"door\", \"Peleg\", \"harpooneer\", \"Catherine\", \"Wickham\", \"Mrs_Bennet\", \"Whale\", \"Charlotte\", \"Darcy\", \"Bingley\", \"Collins\", \"Bennet\", \"Jane\", \"Catherine\", \"Wickham\", \"Lady_Catherine\", \"Charlotte\", \"Mrs_Bennet\", \"Lady Catherine\", \"Miss_Bingley\", \"Lucas\", \"Netherfield\", \"Miss Bingley\", \"Lady\", \"Longbourn\", \"Lydia\", \"Miss_Bennet\", \"Lizzy\", \"Bourgh\", \"Colonel\", \"Fitzwilliam\", \"Rosings\", \"Meryton\", \"Hurst\", \"Hertfordshire\", \"Colonel_Fitzwilliam\", \"behaviour\", \"Miss_Lucas\", \"Miss\", \"Mrs\", \"Sir_William\", \"sister\", \"Elizabeth\", \"dance\", \"lady\", \"daughter\", \"aunt\", \"family\", \"cousin\", \"young\", \"wish\", \"mother\", \"reply\", \"manner\", \"hope\", \"believe\", \"dear\", \"room\", \"mean\", \"girl\", \"father\", \"Felix\", \"Clerval\", \"Geneva\", \"creator\", \"wretch\", \"Safie\", \"inhabit\", \"Frankenstein\", \"abhor\", \"hovel\", \"forever\", \"victim\", \"protector\", \"Victor\", \"cottage\", \"contemplate\", \"unfortunate\", \"hatred\", \"daemon\", \"thirst\", \"Mont\", \"crime\", \"fulfil\", \"cottager\", \"threat\", \"Ingolstadt\", \"divine\", \"ardour\", \"accent\", \"Switzerland\", \"lake\", \"murderer\", \"sensation\", \"anguish\", \"despair\", \"weep\", \"miserable\", \"misery\", \"fiend\", \"grief\", \"tale\", \"Henry\", \"murder\", \"scene\", \"reflect\", \"endure\", \"gentle\", \"human\", \"mountain\", \"Justine\", \"father\", \"horror\", \"discover\", \"creature\", \"tear\", \"appear\", \"endeavour\", \"life\", \"death\", \"feeling\", \"month\", \"remain\", \"destroy\", \"mind\", \"pass\", \"return\", \"desire\", \"love\", \"heart\", \"enter\", \"child\", \"nature\", \"spirit\", \"dear\", \"word\", \"Elizabeth\", \"hope\", \"fear\", \"country\", \"old\", \"whale\", \"Ahab\", \"Bildad\", \"Peleg\", \"Whale\", \"Jonah\", \"mast\", \"Captain_Ahab\", \"Nantucket\", \"Pequod\", \"Stubb\", \"Starbuck\", \"oil\", \"Captain_Peleg\", \"whaling\", \"Flask\", \"mast_head\", \"whale_ship\", \"whaleman\", \"sperm\", \"Cape\", \"shipmate\", \"Leviathan\", \"ship\", \"sperm_whale\", \"horn\", \"pilot\", \"Greenland\", \"Captain\", \"harpooneer\", \"leg\", \"pipe\", \"sailor\", \"cabin\", \"Queequeg\", \"thou\", \"deck\", \"sea\", \"voyage\", \"captain\", \"sail\", \"head\", \"old\", \"board\", \"CHAPTER\", \"fish\", \"stand\", \"mate\", \"sort\", \"world\", \"round\", \"water\", \"God\", \"small\", \"Count\", \"Lucy\", \"Jonathan\", \"Van_Helsing\", \"Helsing\", \"Mina\", \"Van Helsing\", \"later\", \"key\", \"Westenra\", \"harbour\", \"Seward\", \"Hawkins\", \"Whitby\", \"Dracula\", \"diary\", \"Holmwood\", \"pier\", \"Van\", \"driver\", \"Cliff\", \"Diary\", \"courtyard\", \"Arthur\", \"Renfield\", \"crucifix\", \"cat\", \"Bistritz\", \"Murray\", \"Professor\", \"wolf\", \"asleep\", \"patient\", \"September\", \"window\", \"July\", \"bed\", \"sleep\", \"door\", \"lock\", \"August\", \"wake\", \"room\", \"wall\", \"run\", \"try\", \"ask\", \"write\", \"open\", \"whilst\", \"close\", \"face\", \"light\", \"fear\", \"sit\", \"lie\", \"old\", \"fall\", \"letter\", \"dear\", \"don\", \"strange\", \"want\", \"grow\", \"till\", \"round\", \"sort\", \"hold\", \"morning\", \"house\", \"heart\"], \"Freq\": [333.0, 386.0, 229.0, 210.0, 205.0, 193.0, 166.0, 146.0, 142.0, 161.0, 192.0, 218.0, 122.0, 106.0, 102.0, 176.0, 85.0, 252.0, 282.0, 159.0, 75.0, 88.0, 163.0, 70.0, 75.0, 78.0, 76.0, 76.0, 63.0, 72.0, 227.5331154514581, 203.8905178441637, 145.5714710330301, 165.162471093478, 141.70023711780354, 77.64283362501838, 75.72498683208426, 71.0467231298739, 71.91736208269593, 75.60281871985181, 59.71768856674237, 67.1539667841196, 57.707314201863994, 48.328646069021, 45.510463145001566, 87.07502464430536, 39.83047189666273, 36.06114857791752, 34.18293420804073, 36.02950682917674, 30.44220126712923, 29.49419484035749, 28.560640536891874, 28.557140782015487, 29.464391465890955, 29.409858535558175, 23.825748299271034, 22.899802363790222, 22.847834661745125, 22.839459321181206, 185.57659084566166, 175.42812295478282, 37.989353040543115, 157.40096346373784, 319.59993746848414, 59.593047262931734, 101.78276457159744, 72.75588258382032, 33.95143592459238, 78.08066877148889, 55.457790707071176, 119.57545228550275, 100.06805931592511, 72.10226619198423, 69.4619689881753, 83.9571513148497, 88.67628403590648, 75.19837165968683, 95.95640663617623, 90.05487122850813, 78.20093951155638, 67.09218891280875, 70.60518291586736, 47.0839474956825, 51.56021001238054, 35.02744504472881, 18.864798255286342, 20.65827968960618, 23.418263992365336, 15.91766281503552, 14.951182258647478, 14.916287384765539, 13.949877287486798, 30.60710827172095, 16.68416397876494, 13.8948628149436, 22.21778873398452, 54.62764733585402, 12.011207812538743, 11.982987764944703, 11.060114351303824, 11.059201905838359, 13.808618516520669, 11.962742514205189, 23.88694154698507, 10.981148478871814, 23.78219233782239, 10.053339404624312, 15.530999663643605, 12.773704550222815, 12.769691903948052, 10.024966695626786, 9.107320760736888, 31.729831902986735, 27.1074606799656, 42.28472860558668, 20.640977280998523, 40.479871548069994, 27.29466348747075, 55.10953127619398, 49.605354905707266, 28.61578822734679, 26.944007289569264, 29.329325278613705, 25.28174772609545, 38.638622360598696, 57.28158833047632, 31.721508333541163, 33.080598790146226, 32.31983534655099, 54.19022779075774, 51.07906354405128, 43.00766725067149, 125.8670630899834, 45.90980750372189, 48.25297215630778, 61.11454508742294, 46.65188754016715, 78.14338915730204, 48.02542681145313, 108.69822616446864, 65.50602650653455, 85.70458164567633, 45.8266187820057, 66.18388541348779, 36.743072686225126, 81.51516755749567, 77.5580289690408, 68.84048506516775, 50.07299671142026, 72.95876363659686, 67.29042223870987, 58.444882316878335, 49.340344103799644, 48.79587368530348, 50.68096487921961, 61.75186652015761, 55.56082187127489, 64.23298541148334, 55.082075709935864, 53.37724240398465, 48.78022706576442, 48.88574193058152, 331.5693145621529, 105.77863752113038, 74.27114079552382, 69.44395155392128, 62.69910507031378, 60.51145353246879, 52.94903245520922, 39.637035636509864, 50.9503970144634, 45.28103064249209, 44.33615105710764, 38.59866409352378, 30.032337432770845, 29.08273862650081, 29.036746023117665, 37.35705118016735, 24.187150623900724, 21.371083537659004, 33.294487762477196, 17.53923844403409, 19.376402351990055, 31.341093481428686, 16.57101387936092, 201.46719057903655, 15.61173323310784, 15.60864053043169, 17.438877248008726, 22.928466996272512, 116.51590623931064, 71.44473894393707, 35.66627584279303, 28.167941901063685, 43.87217224987547, 46.08849841515627, 140.42454169822423, 66.29197561798847, 60.1097383059097, 161.9453170679116, 60.99380697296488, 42.04043071319492, 64.6504092175112, 103.36126829631337, 137.20326295079266, 37.75022042506543, 43.71774960657047, 45.14738957032389, 72.0447734881377, 48.51206077225294, 68.30158715905026, 66.67542438826669, 60.00850783055625, 51.60445437130685, 54.31310557684282, 45.86291849778594, 84.22287202257922, 100.71568518195674, 34.70488755427618, 25.41478374113299, 25.40213692598688, 34.45579465206907, 22.60415434199842, 22.578367149993266, 32.48042555737152, 19.765416321813476, 25.11919845156429, 19.67227953758935, 15.16163687140761, 16.935412279620813, 15.131683493080397, 13.264507629842056, 13.226469598057438, 14.970434254141843, 25.40973927769439, 27.96515410805313, 10.478529104776596, 10.475675642478086, 10.4545923000298, 39.213935997358554, 10.393859812752984, 9.525044818478827, 9.5012872348103, 8.627963563671841, 8.601753184722714, 10.311111282756684, 20.620377808236526, 26.250498197412323, 22.5860821013311, 15.124130872876282, 81.28623613046787, 21.05921422416643, 80.87507482701159, 112.9314464232545, 114.8289003270875, 30.164339364610115, 29.453465995133687, 29.74275133538565, 136.25591186041117, 33.338817579198505, 67.5092584947745, 69.9460721345109, 72.68140991416752, 67.18237426129619, 70.17506975602583, 29.965677960165504, 53.55881737524297, 60.56997223036676, 63.647796798943844, 65.52953179438333, 64.63148218275555, 52.409370322307396, 89.29161944812289, 50.61679171416001, 57.99628998664813, 72.46138272986855, 40.86434631225637, 46.743120465081006, 50.42480183781221, 40.26893823369771, 48.050398419844484, 48.98363916927015, 50.54506574964237, 42.523603204776805, 45.91866597183427, 46.6505785822371, 44.382792000904026], \"Total\": [333.0, 386.0, 229.0, 210.0, 205.0, 193.0, 166.0, 146.0, 142.0, 161.0, 192.0, 218.0, 122.0, 106.0, 102.0, 176.0, 85.0, 252.0, 282.0, 159.0, 75.0, 88.0, 163.0, 70.0, 75.0, 78.0, 76.0, 76.0, 63.0, 72.0, 229.1114044300811, 205.44611700868674, 146.74520384773874, 166.62982733960766, 142.96125664598398, 78.58396628845584, 76.69143768580645, 71.95713917047446, 72.9052593165466, 76.69315240622386, 60.59672643030453, 68.17551588727619, 58.70558218076579, 49.237941169397544, 46.39908511695878, 88.98630561382211, 40.71747291478237, 36.931389080737354, 35.03825508092021, 36.931292134742, 31.25045989412006, 30.30374318492882, 29.35698097205085, 29.35688480321616, 30.30423934927283, 30.307066409180443, 24.62355695996038, 23.67666386840358, 23.677354965244795, 23.67735663070104, 193.07424841232194, 192.12084827111525, 39.78570591447399, 176.5748205596058, 386.2139656303455, 65.41046980202161, 125.09397248255064, 87.49451041602558, 35.99207047396154, 113.89459019886964, 71.66567851072637, 221.30499316624528, 187.1484395889376, 115.25207386098343, 110.0000841818034, 154.23372892214866, 170.75723739083634, 134.11711975212046, 233.9105082002939, 252.23500899431934, 170.82069355266896, 110.53541790961793, 213.7661591621607, 48.4481387967374, 53.376992510528225, 36.55959241545823, 19.758684401464595, 21.72865506628711, 24.691594484683158, 16.78917790928144, 15.800692974439864, 15.798622788508263, 14.809759672673444, 32.577850609081324, 17.769159624536123, 14.807786148413848, 23.691328332614265, 58.274214914987965, 12.831741348630011, 12.830811937197844, 11.84373853449818, 11.843479738659337, 14.802513253316656, 12.829062898443267, 25.665203848083447, 11.839735679899757, 25.65211056537719, 10.85261744750461, 16.771216391723367, 13.812798029967421, 13.809561913001076, 10.8514887189818, 9.86496462477379, 34.50561722839666, 29.597487102589763, 47.25733023393696, 22.692856713602268, 46.22550026457319, 30.548786609957258, 64.8989288716615, 58.03522136510359, 32.485482660206216, 30.547731225067395, 33.46626041801218, 28.59084704372815, 46.15288862696934, 72.5467397151784, 37.35836319627887, 39.335387580168025, 38.2999198127033, 69.63688741848391, 65.553121127069, 53.94483029814894, 213.7661591621607, 60.620494956773086, 65.61383203927456, 90.90212806190836, 63.635488134927975, 132.14724384268018, 68.36497810870804, 220.75836447086374, 108.0283115682049, 164.53587821761317, 65.38685887104533, 115.5751454348894, 47.06248620182265, 172.0722644551955, 181.27044352576684, 156.30758635490858, 86.35852141786546, 183.7018816889166, 161.94581097771, 123.81622230523864, 84.50496759420076, 86.53204015008731, 100.62322581440027, 233.9105082002939, 171.0939731638315, 386.2139656303455, 170.75723739083634, 148.59800617354475, 107.22025290003128, 282.8094528832155, 333.2934124794708, 106.9254776239874, 75.13229538621025, 70.31621509230636, 63.57116152187553, 61.637264576338644, 53.942379677895765, 40.45364501259942, 52.00720526831592, 46.23534393503591, 45.27148225439677, 39.491511717892415, 30.819453245519348, 29.85669792842952, 29.85710195909642, 38.53556177868889, 25.04207922002785, 22.150011897902658, 34.65716593177386, 18.296582956363075, 20.221364897418734, 32.72931980503907, 17.332881197592993, 210.7435892856837, 16.36993168724907, 16.369564855249603, 18.29384310888522, 24.064267232221255, 122.29018133418303, 75.05785813606082, 37.53187712453191, 29.83122386628334, 47.175970297498935, 50.16525307113104, 161.27213353636802, 74.36117911901817, 69.29617638262673, 218.07203293884896, 73.49058445224352, 48.966377565904104, 86.46683965011061, 183.98958312643265, 282.8094528832155, 43.35182555414382, 54.61470236469865, 57.637034239602386, 141.51625419575004, 68.01863832677148, 147.38373304039249, 157.92817412164263, 122.94678732007712, 96.4742710386577, 118.61505849864037, 93.99096762226714, 85.2577088286044, 102.12362772403225, 35.615544511676454, 26.246396944327685, 26.246475084009717, 35.62209139080469, 23.436542311920057, 23.43835606565989, 33.751438078377866, 20.627625188327897, 26.255264076305306, 20.630277818997246, 15.944027564575125, 17.81859539907949, 15.945364021384192, 14.071048629131491, 14.071294224314304, 15.946515014423893, 27.207515937433833, 30.02667961724979, 11.260141872778078, 11.261042855792335, 11.261656930661301, 42.27398478417235, 11.26557712657674, 10.324455055788595, 10.326735712283883, 9.387040852603164, 9.387548339995517, 11.263168364048072, 22.530137165865934, 29.114047477669793, 25.34512785368519, 16.928867544628986, 101.70048336632216, 24.475425000723817, 108.62832513309368, 159.14287388351258, 163.53685533163753, 37.70427242831477, 36.83431726806917, 37.661796239676534, 252.23500899431934, 43.480320015069786, 115.61139806917963, 123.13033938008638, 137.24669350337484, 126.6764011753348, 140.91675697235337, 39.791520607635015, 100.80046859868365, 125.76011447320643, 140.72913959666317, 148.59800617354475, 148.35317348007933, 105.12561049492336, 282.8094528832155, 102.25496917778518, 143.68349161515968, 233.9105082002939, 72.0460054260556, 100.50195833609577, 124.20955226818862, 71.99883917399328, 116.40051752036102, 122.94678732007712, 147.38373304039249, 91.42039230525862, 142.34580686675832, 162.39195160079512, 161.94581097771], \"Category\": [\"Default\", \"Default\", \"Default\", \"Default\", \"Default\", \"Default\", \"Default\", \"Default\", \"Default\", \"Default\", \"Default\", \"Default\", \"Default\", \"Default\", \"Default\", \"Default\", \"Default\", \"Default\", \"Default\", \"Default\", \"Default\", \"Default\", \"Default\", \"Default\", \"Default\", \"Default\", \"Default\", \"Default\", \"Default\", \"Default\", \"Topic1\", \"Topic1\", \"Topic1\", \"Topic1\", \"Topic1\", \"Topic1\", \"Topic1\", \"Topic1\", \"Topic1\", \"Topic1\", \"Topic1\", \"Topic1\", \"Topic1\", \"Topic1\", \"Topic1\", \"Topic1\", \"Topic1\", \"Topic1\", \"Topic1\", \"Topic1\", \"Topic1\", \"Topic1\", \"Topic1\", \"Topic1\", \"Topic1\", \"Topic1\", \"Topic1\", \"Topic1\", \"Topic1\", \"Topic1\", \"Topic1\", \"Topic1\", \"Topic1\", \"Topic1\", \"Topic1\", \"Topic1\", \"Topic1\", \"Topic1\", \"Topic1\", \"Topic1\", \"Topic1\", \"Topic1\", \"Topic1\", \"Topic1\", \"Topic1\", \"Topic1\", \"Topic1\", \"Topic1\", \"Topic1\", \"Topic1\", \"Topic1\", \"Topic1\", \"Topic1\", \"Topic2\", \"Topic2\", \"Topic2\", \"Topic2\", \"Topic2\", \"Topic2\", \"Topic2\", \"Topic2\", \"Topic2\", \"Topic2\", \"Topic2\", \"Topic2\", \"Topic2\", \"Topic2\", \"Topic2\", \"Topic2\", \"Topic2\", \"Topic2\", \"Topic2\", \"Topic2\", \"Topic2\", \"Topic2\", \"Topic2\", \"Topic2\", \"Topic2\", \"Topic2\", \"Topic2\", \"Topic2\", \"Topic2\", \"Topic2\", \"Topic2\", \"Topic2\", \"Topic2\", \"Topic2\", \"Topic2\", \"Topic2\", \"Topic2\", \"Topic2\", \"Topic2\", \"Topic2\", \"Topic2\", \"Topic2\", \"Topic2\", \"Topic2\", \"Topic2\", \"Topic2\", \"Topic2\", \"Topic2\", \"Topic2\", \"Topic2\", \"Topic2\", \"Topic2\", \"Topic2\", \"Topic2\", \"Topic2\", \"Topic2\", \"Topic2\", \"Topic2\", \"Topic2\", \"Topic2\", \"Topic2\", \"Topic2\", \"Topic2\", \"Topic2\", \"Topic2\", \"Topic2\", \"Topic2\", \"Topic2\", \"Topic2\", \"Topic2\", \"Topic2\", \"Topic2\", \"Topic2\", \"Topic2\", \"Topic2\", \"Topic2\", \"Topic2\", \"Topic2\", \"Topic2\", \"Topic2\", \"Topic3\", \"Topic3\", \"Topic3\", \"Topic3\", \"Topic3\", \"Topic3\", \"Topic3\", \"Topic3\", \"Topic3\", \"Topic3\", \"Topic3\", \"Topic3\", \"Topic3\", \"Topic3\", \"Topic3\", \"Topic3\", \"Topic3\", \"Topic3\", \"Topic3\", \"Topic3\", \"Topic3\", \"Topic3\", \"Topic3\", \"Topic3\", \"Topic3\", \"Topic3\", \"Topic3\", \"Topic3\", \"Topic3\", \"Topic3\", \"Topic3\", \"Topic3\", \"Topic3\", \"Topic3\", \"Topic3\", \"Topic3\", \"Topic3\", \"Topic3\", \"Topic3\", \"Topic3\", \"Topic3\", \"Topic3\", \"Topic3\", \"Topic3\", \"Topic3\", \"Topic3\", \"Topic3\", \"Topic3\", \"Topic3\", \"Topic3\", \"Topic3\", \"Topic3\", \"Topic3\", \"Topic3\", \"Topic4\", \"Topic4\", \"Topic4\", \"Topic4\", \"Topic4\", \"Topic4\", \"Topic4\", \"Topic4\", \"Topic4\", \"Topic4\", \"Topic4\", \"Topic4\", \"Topic4\", \"Topic4\", \"Topic4\", \"Topic4\", \"Topic4\", \"Topic4\", \"Topic4\", \"Topic4\", \"Topic4\", \"Topic4\", \"Topic4\", \"Topic4\", \"Topic4\", \"Topic4\", \"Topic4\", \"Topic4\", \"Topic4\", \"Topic4\", \"Topic4\", \"Topic4\", \"Topic4\", \"Topic4\", \"Topic4\", \"Topic4\", \"Topic4\", \"Topic4\", \"Topic4\", \"Topic4\", \"Topic4\", \"Topic4\", \"Topic4\", \"Topic4\", \"Topic4\", \"Topic4\", \"Topic4\", \"Topic4\", \"Topic4\", \"Topic4\", \"Topic4\", \"Topic4\", \"Topic4\", \"Topic4\", \"Topic4\", \"Topic4\", \"Topic4\", \"Topic4\", \"Topic4\", \"Topic4\", \"Topic4\", \"Topic4\", \"Topic4\", \"Topic4\", \"Topic4\", \"Topic4\", \"Topic4\", \"Topic4\", \"Topic4\", \"Topic4\", \"Topic4\"], \"logprob\": [30.0, 29.0, 28.0, 27.0, 26.0, 25.0, 24.0, 23.0, 22.0, 21.0, 20.0, 19.0, 18.0, 17.0, 16.0, 15.0, 14.0, 13.0, 12.0, 11.0, 10.0, 9.0, 8.0, 7.0, 6.0, 5.0, 4.0, 3.0, 2.0, 1.0, -4.4897, -4.5994, -4.9363, -4.81, -4.9633, -5.5649, -5.5899, -5.6536, -5.6415, -5.5915, -5.8273, -5.71, -5.8616, -6.0389, -6.099, -5.4502, -6.2323, -6.3318, -6.3852, -6.3326, -6.5011, -6.5328, -6.5649, -6.5651, -6.5338, -6.5356, -6.7462, -6.7858, -6.7881, -6.7885, -4.6935, -4.7497, -6.2797, -4.8582, -4.1499, -5.8294, -5.2941, -5.6299, -6.392, -5.5592, -5.9014, -5.133, -5.3111, -5.6389, -5.6762, -5.4867, -5.432, -5.5968, -5.3531, -5.4166, -5.5577, -5.7109, -5.6599, -6.0602, -5.9694, -6.356, -6.9749, -6.8841, -6.7587, -7.1448, -7.2074, -7.2097, -7.2767, -6.4909, -7.0977, -7.2807, -6.8113, -5.9116, -7.4263, -7.4287, -7.5088, -7.5089, -7.2869, -7.4304, -6.7388, -7.516, -6.7432, -7.6043, -7.1693, -7.3648, -7.3651, -7.6071, -7.7031, -6.4549, -6.6124, -6.1678, -6.8849, -6.2114, -6.6055, -5.9029, -6.0081, -6.5582, -6.6184, -6.5336, -6.6821, -6.2579, -5.8642, -6.4552, -6.4132, -6.4365, -5.9197, -5.9788, -6.1508, -5.077, -6.0855, -6.0357, -5.7994, -6.0695, -5.5536, -6.0405, -5.2236, -5.73, -5.4613, -6.0873, -5.7197, -6.3082, -5.5114, -5.5612, -5.6804, -5.9987, -5.6223, -5.7032, -5.8441, -6.0134, -6.0245, -5.9866, -5.7891, -5.8947, -5.7497, -5.9034, -5.9348, -6.0249, -6.0227, -3.9129, -5.0554, -5.409, -5.4762, -5.5784, -5.6139, -5.7474, -6.037, -5.7859, -5.9039, -5.925, -6.0635, -6.3145, -6.3466, -6.3482, -6.0962, -6.5309, -6.6547, -6.2114, -6.8523, -6.7527, -6.2718, -6.9091, -4.4111, -6.9687, -6.9689, -6.8581, -6.5844, -4.9587, -5.4478, -6.1426, -6.3786, -5.9355, -5.8862, -4.7721, -5.5227, -5.6206, -4.6295, -5.606, -5.9781, -5.5478, -5.0785, -4.7953, -6.0858, -5.939, -5.9068, -5.4395, -5.835, -5.4928, -5.5169, -5.6223, -5.7732, -5.722, -5.8911, -5.2544, -5.0755, -6.141, -6.4525, -6.453, -6.1482, -6.5697, -6.5708, -6.2072, -6.7039, -6.4642, -6.7086, -6.9691, -6.8584, -6.971, -7.1027, -7.1056, -6.9818, -6.4527, -6.3569, -7.3385, -7.3388, -7.3408, -6.0188, -7.3466, -7.4339, -7.4364, -7.5328, -7.5359, -7.3546, -6.6616, -6.4202, -6.5705, -6.9715, -5.2899, -6.6405, -5.2949, -4.9611, -4.9444, -6.2812, -6.305, -6.2953, -4.7733, -6.1811, -5.4756, -5.4401, -5.4018, -5.4804, -5.4368, -6.2878, -5.7071, -5.584, -5.5345, -5.5053, -5.5191, -5.7288, -5.1959, -5.7636, -5.6275, -5.4048, -5.9776, -5.8432, -5.7674, -5.9923, -5.8156, -5.7964, -5.765, -5.9378, -5.861, -5.8452, -5.895], \"loglift\": [30.0, 29.0, 28.0, 27.0, 26.0, 25.0, 24.0, 23.0, 22.0, 21.0, 20.0, 19.0, 18.0, 17.0, 16.0, 15.0, 14.0, 13.0, 12.0, 11.0, 10.0, 9.0, 8.0, 7.0, 6.0, 5.0, 4.0, 3.0, 2.0, 1.0, 1.2765, 1.2758, 1.2754, 1.2746, 1.2746, 1.2714, 1.2707, 1.2707, 1.2698, 1.2691, 1.2688, 1.2683, 1.2663, 1.2648, 1.2641, 1.2617, 1.2614, 1.2596, 1.2587, 1.2587, 1.2572, 1.2564, 1.2559, 1.2558, 1.2553, 1.2534, 1.2505, 1.2501, 1.2478, 1.2474, 1.2438, 1.1925, 1.2372, 1.1685, 1.0941, 1.1903, 1.0772, 1.099, 1.2251, 0.9059, 1.027, 0.6678, 0.6574, 0.8144, 0.8237, 0.6753, 0.6282, 0.7048, 0.3924, 0.2535, 0.5021, 0.7842, 0.1757, 1.2597, 1.2536, 1.2454, 1.2419, 1.2377, 1.2353, 1.2349, 1.233, 1.2308, 1.2284, 1.2258, 1.2252, 1.2246, 1.224, 1.2236, 1.2221, 1.2199, 1.2198, 1.2197, 1.2187, 1.2183, 1.2164, 1.2129, 1.2125, 1.2117, 1.2114, 1.21, 1.2099, 1.209, 1.2083, 1.2044, 1.2003, 1.177, 1.1935, 1.1555, 1.1756, 1.1247, 1.1313, 1.1614, 1.1627, 1.1563, 1.1652, 1.1105, 1.052, 1.1247, 1.115, 1.1185, 1.0374, 1.0387, 1.0616, 0.7586, 1.0103, 0.9809, 0.8912, 0.9778, 0.7629, 0.9351, 0.5797, 0.788, 0.636, 0.9328, 0.7307, 1.0407, 0.5411, 0.4393, 0.4682, 0.7432, 0.3648, 0.41, 0.5375, 0.7502, 0.7154, 0.6024, -0.0436, 0.1635, -0.5057, 0.1568, 0.2644, 0.5007, -0.4671, 1.4785, 1.4729, 1.4721, 1.4712, 1.4698, 1.4652, 1.4651, 1.4632, 1.4631, 1.4628, 1.4628, 1.4608, 1.4578, 1.4574, 1.4558, 1.4526, 1.4489, 1.4478, 1.4435, 1.4414, 1.441, 1.4403, 1.4387, 1.4386, 1.4362, 1.436, 1.4358, 1.4353, 1.4353, 1.4343, 1.4327, 1.4263, 1.411, 1.3989, 1.3452, 1.3688, 1.3414, 1.1861, 1.2973, 1.3311, 1.1929, 0.907, 0.7603, 1.3453, 1.2611, 1.2394, 0.8085, 1.1457, 0.7145, 0.6213, 0.7664, 0.858, 0.7025, 0.7661, 1.5004, 1.4987, 1.4867, 1.4804, 1.4799, 1.4793, 1.4764, 1.4752, 1.4742, 1.4699, 1.4683, 1.465, 1.4622, 1.4617, 1.4602, 1.4535, 1.4506, 1.4494, 1.4442, 1.4414, 1.4406, 1.4403, 1.4382, 1.4374, 1.432, 1.432, 1.4293, 1.4282, 1.4251, 1.4242, 1.424, 1.409, 1.3973, 1.3998, 1.2885, 1.3622, 1.2175, 1.1695, 1.159, 1.2895, 1.2889, 1.2765, 0.8967, 1.247, 0.9746, 0.947, 0.8769, 0.8783, 0.8154, 1.229, 0.8802, 0.782, 0.7191, 0.6938, 0.6817, 0.8165, 0.3597, 0.8094, 0.6053, 0.3407, 0.9455, 0.7471, 0.6111, 0.9315, 0.6278, 0.5923, 0.4424, 0.7472, 0.3812, 0.2652, 0.2182]}, \"token.table\": {\"Topic\": [2, 3, 2, 4, 2, 3, 4, 1, 3, 3, 1, 2, 3, 4, 1, 3, 4, 3, 1, 2, 3, 3, 3, 1, 1, 1, 2, 4, 1, 1, 1, 4, 1, 2, 3, 4, 4, 1, 2, 3, 4, 1, 2, 1, 2, 3, 2, 1, 2, 1, 2, 3, 4, 3, 4, 4, 4, 1, 2, 3, 1, 4, 1, 1, 2, 1, 3, 4, 4, 2, 3, 4, 1, 2, 4, 1, 4, 1, 1, 3, 1, 1, 1, 1, 4, 1, 1, 3, 4, 1, 2, 3, 4, 1, 1, 1, 1, 2, 1, 2, 3, 4, 1, 4, 3, 1, 3, 3, 4, 2, 3, 4, 4, 1, 1, 2, 2, 4, 4, 1, 3, 3, 3, 2, 3, 4, 4, 4, 1, 2, 4, 3, 4, 1, 2, 2, 2, 3, 1, 2, 3, 4, 2, 1, 2, 3, 4, 3, 4, 1, 2, 3, 4, 1, 2, 3, 4, 1, 1, 2, 3, 4, 2, 3, 4, 2, 3, 2, 3, 4, 4, 1, 2, 3, 4, 1, 2, 3, 4, 2, 2, 3, 4, 1, 2, 1, 2, 3, 4, 4, 1, 2, 2, 1, 2, 3, 4, 2, 3, 4, 2, 1, 2, 3, 4, 1, 2, 3, 4, 1, 2, 3, 4, 1, 2, 3, 4, 2, 3, 4, 1, 2, 3, 4, 1, 2, 4, 1, 2, 3, 4, 4, 1, 2, 3, 4, 2, 3, 4, 1, 2, 3, 4, 3, 4, 1, 2, 4, 1, 2, 3, 4, 1, 2, 3, 4, 1, 2, 3, 4, 1, 2, 3, 4, 1, 2, 3, 4, 1, 2, 3, 4, 1, 2, 3, 4, 1, 2, 3, 4, 2, 3, 4, 1, 2, 3, 4, 1, 2, 2, 1, 2, 4, 1, 2, 3, 4, 1, 2, 3, 1, 2, 3, 4, 4, 3, 4, 2, 1, 2, 3, 4, 1, 2, 3, 4, 1, 2, 3, 4, 1, 2, 3, 4, 3, 1, 2, 3, 4, 1, 2, 3, 4, 2, 1, 2, 3, 4, 2, 3, 4, 1, 2, 3, 4, 1, 2, 4, 4, 3, 4, 1, 2, 3, 4, 1, 2, 3, 4, 1, 2, 3, 4, 1, 2, 3, 4, 2, 3, 4, 1, 2, 3, 4, 1, 2, 3, 4, 3, 3, 2, 3, 4, 1, 2, 3, 4, 1, 2, 3, 4, 1, 2, 3, 4, 1, 2, 3, 4, 1, 2, 3, 4, 1, 2, 3, 4, 1, 2, 3, 4, 1, 2, 3, 4, 1, 2, 3, 4, 1, 2, 3, 4, 1, 2, 3, 4, 3, 1, 2, 3, 4, 1, 2, 3, 4, 1, 2, 3, 4, 1, 3, 4, 4, 3, 3, 4, 2, 1, 2, 1, 2, 3, 4, 1, 2, 3, 4, 1, 2, 3, 4, 1, 2, 3, 4, 1, 2, 3, 4, 1, 2, 3, 4, 2, 3, 4, 2, 3, 4, 1, 2, 3, 4, 1, 2, 3, 4, 1, 2, 4, 2, 3, 4, 3, 4, 1, 2, 3, 4, 1, 2, 3, 4, 1, 2, 3, 4, 1, 2, 3, 4, 1, 2, 3, 4, 3, 3, 1, 2, 3, 4, 1, 2, 3, 4, 1, 2, 3, 4, 2, 3, 4, 1, 2, 3, 4, 2, 2, 3, 2, 1, 2, 3, 4, 1, 2, 3, 4, 2, 1, 2, 2, 3, 4, 1, 3, 4, 2, 3, 4, 1, 2, 3, 4, 2, 3, 4, 1, 2, 3, 4, 1, 2, 3, 4, 3, 3, 4, 3, 1, 2, 4, 1, 2, 3, 4, 1, 2, 3, 4, 3, 4, 1, 2, 3, 4, 1, 2, 3, 4, 2, 1, 2, 3, 4, 1, 2, 3, 4], \"Freq\": [0.009352308001995423, 0.9913446482115149, 0.04731042058634635, 0.9225532014337539, 0.10859438416868687, 0.08144578812651515, 0.7873092852229798, 0.9902188739817517, 0.006001326508980313, 0.9849293119504763, 0.9929610886312074, 0.004867456316819644, 0.004867456316819644, 0.9587685982536411, 0.9599858722605442, 0.8056438668507753, 0.18310087882972165, 0.9396002740856211, 0.03270908552395698, 0.008177271380989245, 0.9567407515757416, 0.9887860534580227, 0.9713063403567556, 0.9925688875729142, 0.9875830725377978, 0.018734663625020784, 0.9742025085010808, 0.8880882774821399, 0.994921783961594, 0.9569774870063834, 0.9714206413469177, 0.9852481512125455, 0.9951490654389478, 0.004364688883504156, 0.004364688883504156, 0.8880172225662304, 0.9407122960556829, 0.8285562627900399, 0.16571125255800798, 0.005178476642437749, 0.0025892383212188746, 0.020640627789551783, 0.9701095061089339, 0.9878399971580624, 0.025950056359448862, 0.9601520852996078, 0.9493254520080155, 0.027352602530031956, 0.9573410885511184, 0.03372253110717684, 0.14332075720550155, 0.4552541699468873, 0.362517209402151, 0.9557739605386265, 0.04155538958863594, 0.9407911482370621, 0.9525088576648865, 0.034976228527631735, 0.8744057131907934, 0.06995245705526347, 0.9746764059727713, 0.9238666886473615, 0.956872552706569, 0.05962596729081036, 0.9540154766529657, 0.9932761038302542, 0.989661050328582, 0.016223951644730852, 0.9827169703533621, 0.08171461782342303, 0.08171461782342303, 0.8580034871459418, 0.18537457518599587, 0.7971106732997822, 0.018537457518599587, 0.977678524800859, 0.011237684193113322, 0.9901524972476714, 0.986698482158846, 0.9807948145609386, 0.9747831153227938, 0.9823792376240056, 0.9879810036021248, 0.009792053242588394, 0.9889973775014278, 0.9747805564881081, 0.956961818633995, 0.028072467419982393, 0.9544638922794014, 0.9633599588215698, 0.0051793546173202675, 0.0051793546173202675, 0.031076127703921607, 0.991398858060395, 0.9703679570080651, 0.9827575065332864, 0.9713922191034301, 0.9353761919318465, 0.910885005843016, 0.005205057176245805, 0.02082022870498322, 0.06246068611494967, 0.9909620039798024, 0.9587167675777101, 0.9806333514150676, 0.97485798268578, 0.981281485492663, 0.973281394061399, 0.8878496420172415, 0.0062006992657196594, 0.8680978972007523, 0.12401398531439319, 0.8876598054092494, 0.9878432331765302, 0.04049961215021274, 0.9314910794548931, 0.05907069668799373, 0.886060450319906, 0.9694488932952294, 0.9551168975532904, 0.0251346551987708, 0.9875539908068466, 0.9719142782369736, 0.9123195411566288, 0.03675454981996854, 0.9188637454992137, 0.9813734335846108, 0.9525116934346658, 0.042209537006980186, 0.928609814153564, 0.9695735605723999, 0.9910153989922146, 0.9540594878134008, 0.9909841605963997, 0.9494498476734838, 0.9215325435032388, 0.9254013395066494, 0.044066730452697586, 0.27242338888927264, 0.5902506759267574, 0.052971214506247456, 0.0908077962964242, 0.9413767128818974, 0.3205906013241627, 0.11657840048151372, 0.02914460012037843, 0.5318889521969064, 0.06869536094333781, 0.8930396922633914, 0.9446525179649583, 0.02778389758720466, 0.02778389758720466, 0.02778389758720466, 0.027617106277983552, 0.07364561674128947, 0.15649693557524014, 0.7456618695055559, 0.9713922874307935, 0.5592127249572418, 0.29079061697776576, 0.022368508998289672, 0.11929871465754492, 0.06920123804828428, 0.8765490152782675, 0.04613415869885618, 0.05980234956148226, 0.916969359942728, 0.020422176393467023, 0.8577314085256149, 0.12253305836080214, 0.9683602135866396, 0.17750435775599765, 0.5798475686695923, 0.0828353669527989, 0.15383711005519796, 0.13888824322571477, 0.17857059843306186, 0.14880883202755155, 0.5357117952991856, 0.9351809449682515, 0.9438136589267744, 0.03432049668824634, 0.01716024834412317, 0.03898314711576622, 0.9355955307783893, 0.2797978850877272, 0.4570032123099544, 0.10259255786549996, 0.1585521348830454, 0.8879688008230584, 0.7674524422700892, 0.20930521152820616, 0.9616024839483565, 0.1210092682594682, 0.6710513967115963, 0.1540117959665959, 0.05500421284521281, 0.9351182301944664, 0.038963259591436095, 0.9685741228921633, 0.9287810882213898, 0.9172843457874936, 0.03057614485958312, 0.01528807242979156, 0.03057614485958312, 0.8343380590724381, 0.11429288480444358, 0.011429288480444357, 0.04571715392177743, 0.4104133702184799, 0.26505863493276827, 0.017100557092436665, 0.30781002766385995, 0.0647978284431528, 0.6109509538925836, 0.15736615479051394, 0.17587982005998617, 0.05772324259153268, 0.8658486388729902, 0.07215405323941584, 0.24317229678339092, 0.5789816590080736, 0.03473889954048442, 0.13895559816193767, 0.04326616236823687, 0.8653232473647373, 0.08653232473647374, 0.02124834620320742, 0.7861888095186746, 0.08499338481282968, 0.10624173101603711, 0.9238828137574563, 0.13716619987402745, 0.7315530659948131, 0.09144413324935163, 0.04572206662467582, 0.9411561634214861, 0.4164006015682645, 0.5690808221432948, 0.12229659155082725, 0.12229659155082725, 0.05503346619787226, 0.7032054014172567, 0.03330371565377871, 0.9325040383058039, 0.27792007729144375, 0.7021138794731211, 0.014627372489023356, 0.050844802175239096, 0.838939235891445, 0.050844802175239096, 0.025422401087619548, 0.20998863893540018, 0.4684361945482004, 0.14537675003220013, 0.16960620837090015, 0.08746811376625761, 0.15108128741444496, 0.27830763471081965, 0.48505044906742856, 0.09779475834190063, 0.2933842750257019, 0.1075742341760907, 0.49875326754369326, 0.6848437653079515, 0.22828125510265052, 0.06146033791225206, 0.017560096546357734, 0.33213863353431994, 0.5894291243003424, 0.028068053538111544, 0.0514580981532045, 0.10767304630799628, 0.35666696589523766, 0.09421391551949675, 0.44415131602048463, 0.35250670326924016, 0.5226823531233561, 0.018233105341512422, 0.10939863204907453, 0.8927064530127535, 0.030782981138370812, 0.061565962276741625, 0.06939982344288634, 0.052049867582164754, 0.7807480137324713, 0.10409973516432951, 0.03069570218120045, 0.9515667676172139, 0.9290747950289658, 0.05221943047871972, 0.8355108876595155, 0.07832914571807958, 0.6061405589906417, 0.17189060628092823, 0.05428124408871418, 0.16284373226614254, 0.03273565531372105, 0.8838626934704684, 0.0654713106274421, 0.1666693538072281, 0.08333467690361405, 0.18055846662449712, 0.5555645126907603, 0.9521900037776367, 0.945936931364269, 0.0399691661139832, 0.9287607935585072, 0.09239653523383475, 0.11413689646532527, 0.5598143017108811, 0.23370888323852318, 0.14819772030598138, 0.41371863585419805, 0.16054753033147984, 0.2716958205609659, 0.087507828376928, 0.120323264018276, 0.32815435641348, 0.47035457752598797, 0.5212077763725649, 0.3220946932639446, 0.02928133575126769, 0.12883787730557783, 0.9774236604016333, 0.016496071183732072, 0.7588192744516754, 0.049488213551196224, 0.1814567830210528, 0.35100261705162555, 0.22168586340102667, 0.1354746943006274, 0.28942321055134035, 0.945322564945629, 0.08616123181874731, 0.7754510863687258, 0.08616123181874731, 0.05744082121249821, 0.9529948450397225, 0.02962836717291251, 0.9481077495332003, 0.8153870084685974, 0.039969951395519475, 0.039969951395519475, 0.11191586390745453, 0.028980788646117667, 0.9273852366757653, 0.05796157729223533, 0.9812974909830756, 0.9591846387152687, 0.026644017742090798, 0.3688663144542355, 0.2087922534646616, 0.02087922534646616, 0.4036650233650124, 0.028537289684941933, 0.24732317726949676, 0.21878588758455483, 0.4946463545389935, 0.15854438894712589, 0.4937525255781921, 0.15854438894712589, 0.18572342705234748, 0.056846791097624874, 0.29133980437532747, 0.19896376884168704, 0.454774328780999, 0.05304438651620977, 0.1591331595486293, 0.7956657977431466, 0.33205974505638586, 0.3973829735920683, 0.04354881902378831, 0.22318769749691508, 0.5446279525693113, 0.27231397628465565, 0.07132032712217172, 0.11022232373426538, 0.9825298831174494, 0.9583868731157743, 0.044105558032308166, 0.7203907811943667, 0.23522964283897688, 0.4566191506297236, 0.14635229186850116, 0.21074730029064165, 0.1873309335916815, 0.1510993075050159, 0.47654396982351166, 0.1452877956778999, 0.23246047308463982, 0.07704287400316832, 0.8474716140348516, 0.030817149601267333, 0.046225724401900994, 0.0861545778992494, 0.861545778992494, 0.03446183115969976, 0.01723091557984988, 0.1835231146929104, 0.70350527298949, 0.015293592891075868, 0.0917615573464552, 0.28100581872033426, 0.21777950950825906, 0.1756286367002089, 0.3231566915283844, 0.6247176088722368, 0.16485603567461807, 0.03470653382623538, 0.16485603567461807, 0.015254803780610037, 0.777994992811112, 0.015254803780610037, 0.18305764536732044, 0.021667116181665218, 0.8450175310849435, 0.043334232363330435, 0.10833558090832608, 0.03378665210778994, 0.9122396069103283, 0.03378665210778994, 0.03378665210778994, 0.17334619609086918, 0.566264240563506, 0.16178978301814456, 0.1040077176545215, 0.973411168621608, 0.024751647898030513, 0.17326153528621357, 0.4844251088614543, 0.31469952327495937, 0.14192776238757626, 0.18450609110384913, 0.17740970298447034, 0.49674716835651694, 0.25928110002841775, 0.43029629366418265, 0.10481576384127525, 0.2096315276825505, 0.039455314874436494, 0.039455314874436494, 0.9074722421120394, 0.9406443970003632, 0.9292743956978178, 0.9386138539105304, 0.03352192335394751, 0.9454485538676978, 0.13383884014752637, 0.8565685769441687, 0.16439520736492494, 0.5710570361097392, 0.11248093135494865, 0.1557428280299289, 0.6272722472281, 0.2272725533435145, 0.06363631493618406, 0.07272721706992465, 0.40305145430979644, 0.44143730710120566, 0.04478349492331072, 0.10875991624232603, 0.3568101048258012, 0.07532657768544693, 0.02775189704200676, 0.5391797139589886, 0.056935200606554645, 0.056935200606554645, 0.4880160051990398, 0.3985464042458825, 0.10379599417022387, 0.0778469956276679, 0.2335409868830037, 0.5881773002979352, 0.08095589046998372, 0.7517332686498488, 0.16191178093996744, 0.02119723227087532, 0.9326782199185141, 0.04239446454175064, 0.11027373568279349, 0.7857003667399036, 0.04135265088104756, 0.06892108480174593, 0.004585640746883011, 0.0825415334438942, 0.7428738009950479, 0.17425434838155443, 0.0211607383457703, 0.8887510105223526, 0.0634822150373109, 0.004745102820871108, 0.9537656669950928, 0.037960822566968866, 0.9471629775583414, 0.030553644437365853, 0.8891414953866653, 0.06229653789333324, 0.028316608133333292, 0.022653286506666634, 0.2291828290721767, 0.1348134288659863, 0.20222014329897944, 0.4381436438144555, 0.018850985449690338, 0.1382405599643958, 0.1382405599643958, 0.7100537852716694, 0.21278640390613296, 0.13831116253898643, 0.4894087289841058, 0.14895048273429307, 0.18998026052390887, 0.006785009304425316, 0.46138063270092156, 0.34603547452569117, 0.9837902543294331, 0.9774017574222854, 0.23851352215906937, 0.5068412345880224, 0.07950450738635646, 0.16894707819600746, 0.13426019581975765, 0.09186223924509734, 0.5087754788959237, 0.2685203916395153, 0.059700329220799576, 0.2985016461039979, 0.189051042532532, 0.4676525788962634, 0.866544383440931, 0.029880840808307964, 0.05976168161661593, 0.047143505737537866, 0.7385815898880933, 0.125716015300101, 0.09428701147507573, 0.9457853379636837, 0.10758301703629075, 0.8875598905493987, 0.9214366993373884, 0.35223211093394147, 0.008591027095949793, 0.2233667044946946, 0.41236930060559, 0.21927983091685244, 0.11370065306799756, 0.10557917784885489, 0.5685032653399879, 0.9352486856432496, 0.056277281600823355, 0.956713787213997, 0.14967903823309697, 0.8300383029289923, 0.013607185293917906, 0.02655210584317549, 0.15931263505905294, 0.7965631752952647, 0.11499455381807348, 0.11499455381807348, 0.758964055199285, 0.3703418872380968, 0.08050910592132539, 0.1449163906583857, 0.402545529606627, 0.2695019067786651, 0.5390038135573302, 0.19694370110748605, 0.03273452437793565, 0.8838321582042625, 0.03273452437793565, 0.03273452437793565, 0.0030003593307191302, 0.0030003593307191302, 0.9961192977987512, 0.0030003593307191302, 0.9480807548454838, 0.9521840321555386, 0.028854061580470866, 0.9712931964974153, 0.02513098229797543, 0.20104785838380343, 0.7539294689392628, 0.10816074453037083, 0.06882956470114508, 0.02949838487191932, 0.7964563915418216, 0.5343352058913508, 0.23510749059219435, 0.02671676029456754, 0.2030473782387133, 0.04438499387012345, 0.9320848712725924, 0.2513238731023286, 0.32730550915652096, 0.19872120198788773, 0.2279449081625771, 0.1899597723259486, 0.25327969643459813, 0.4242434915279519, 0.13297184062816403, 0.9664657078837038, 0.3315534670255365, 0.07894130167274678, 0.05525891117092275, 0.5289067212074035, 0.5422381044509713, 0.14911547872401712, 0.16267143133529138, 0.14911547872401712], \"Term\": [\"Ahab\", \"Ahab\", \"Arthur\", \"Arthur\", \"August\", \"August\", \"August\", \"Bennet\", \"Bennet\", \"Bildad\", \"Bingley\", \"Bingley\", \"Bingley\", \"Bistritz\", \"Bourgh\", \"CHAPTER\", \"CHAPTER\", \"Cape\", \"Captain\", \"Captain\", \"Captain\", \"Captain_Ahab\", \"Captain_Peleg\", \"Catherine\", \"Charlotte\", \"Clerval\", \"Clerval\", \"Cliff\", \"Collins\", \"Colonel\", \"Colonel_Fitzwilliam\", \"Count\", \"Darcy\", \"Darcy\", \"Darcy\", \"Diary\", \"Dracula\", \"Elizabeth\", \"Elizabeth\", \"Elizabeth\", \"Elizabeth\", \"Felix\", \"Felix\", \"Fitzwilliam\", \"Flask\", \"Flask\", \"Frankenstein\", \"Geneva\", \"Geneva\", \"God\", \"God\", \"God\", \"God\", \"Greenland\", \"Greenland\", \"Hawkins\", \"Helsing\", \"Henry\", \"Henry\", \"Henry\", \"Hertfordshire\", \"Holmwood\", \"Hurst\", \"Ingolstadt\", \"Ingolstadt\", \"Jane\", \"Jonah\", \"Jonah\", \"Jonathan\", \"July\", \"July\", \"July\", \"Justine\", \"Justine\", \"Justine\", \"Lady\", \"Lady\", \"Lady Catherine\", \"Lady_Catherine\", \"Leviathan\", \"Lizzy\", \"Longbourn\", \"Lucas\", \"Lucy\", \"Lucy\", \"Lydia\", \"Meryton\", \"Mina\", \"Mina\", \"Miss\", \"Miss\", \"Miss\", \"Miss\", \"Miss Bingley\", \"Miss_Bennet\", \"Miss_Bingley\", \"Miss_Lucas\", \"Mont\", \"Mrs\", \"Mrs\", \"Mrs\", \"Mrs\", \"Mrs_Bennet\", \"Murray\", \"Nantucket\", \"Netherfield\", \"Peleg\", \"Pequod\", \"Professor\", \"Queequeg\", \"Queequeg\", \"Queequeg\", \"Renfield\", \"Rosings\", \"Safie\", \"Safie\", \"September\", \"September\", \"Seward\", \"Sir_William\", \"Sir_William\", \"Starbuck\", \"Stubb\", \"Switzerland\", \"Van\", \"Van\", \"Van Helsing\", \"Van_Helsing\", \"Victor\", \"Victor\", \"Westenra\", \"Whale\", \"Whitby\", \"Wickham\", \"abhor\", \"accent\", \"anguish\", \"anguish\", \"appear\", \"appear\", \"appear\", \"appear\", \"ardour\", \"ask\", \"ask\", \"ask\", \"ask\", \"asleep\", \"asleep\", \"aunt\", \"aunt\", \"aunt\", \"aunt\", \"bed\", \"bed\", \"bed\", \"bed\", \"behaviour\", \"believe\", \"believe\", \"believe\", \"believe\", \"board\", \"board\", \"board\", \"cabin\", \"cabin\", \"captain\", \"captain\", \"captain\", \"cat\", \"child\", \"child\", \"child\", \"child\", \"close\", \"close\", \"close\", \"close\", \"contemplate\", \"cottage\", \"cottage\", \"cottage\", \"cottager\", \"cottager\", \"country\", \"country\", \"country\", \"country\", \"courtyard\", \"cousin\", \"cousin\", \"creator\", \"creature\", \"creature\", \"creature\", \"creature\", \"crime\", \"crime\", \"crucifix\", \"daemon\", \"dance\", \"dance\", \"dance\", \"dance\", \"daughter\", \"daughter\", \"daughter\", \"daughter\", \"dear\", \"dear\", \"dear\", \"dear\", \"death\", \"death\", \"death\", \"death\", \"deck\", \"deck\", \"deck\", \"desire\", \"desire\", \"desire\", \"desire\", \"despair\", \"despair\", \"despair\", \"destroy\", \"destroy\", \"destroy\", \"destroy\", \"diary\", \"discover\", \"discover\", \"discover\", \"discover\", \"divine\", \"don\", \"don\", \"door\", \"door\", \"door\", \"door\", \"driver\", \"driver\", \"endeavour\", \"endeavour\", \"endeavour\", \"endure\", \"endure\", \"endure\", \"endure\", \"enter\", \"enter\", \"enter\", \"enter\", \"face\", \"face\", \"face\", \"face\", \"fall\", \"fall\", \"fall\", \"fall\", \"family\", \"family\", \"family\", \"family\", \"father\", \"father\", \"father\", \"father\", \"fear\", \"fear\", \"fear\", \"fear\", \"feeling\", \"feeling\", \"feeling\", \"feeling\", \"fiend\", \"fiend\", \"fiend\", \"fish\", \"fish\", \"fish\", \"fish\", \"forever\", \"forever\", \"fulfil\", \"gentle\", \"gentle\", \"gentle\", \"girl\", \"girl\", \"girl\", \"girl\", \"grief\", \"grief\", \"grief\", \"grow\", \"grow\", \"grow\", \"grow\", \"harbour\", \"harpooneer\", \"harpooneer\", \"hatred\", \"head\", \"head\", \"head\", \"head\", \"heart\", \"heart\", \"heart\", \"heart\", \"hold\", \"hold\", \"hold\", \"hold\", \"hope\", \"hope\", \"hope\", \"hope\", \"horn\", \"horror\", \"horror\", \"horror\", \"horror\", \"house\", \"house\", \"house\", \"house\", \"hovel\", \"human\", \"human\", \"human\", \"human\", \"inhabit\", \"key\", \"key\", \"lady\", \"lady\", \"lady\", \"lady\", \"lake\", \"lake\", \"lake\", \"later\", \"leg\", \"leg\", \"letter\", \"letter\", \"letter\", \"letter\", \"lie\", \"lie\", \"lie\", \"lie\", \"life\", \"life\", \"life\", \"life\", \"light\", \"light\", \"light\", \"light\", \"lock\", \"lock\", \"lock\", \"love\", \"love\", \"love\", \"love\", \"manner\", \"manner\", \"manner\", \"manner\", \"mast\", \"mast_head\", \"mate\", \"mate\", \"mate\", \"mean\", \"mean\", \"mean\", \"mean\", \"mind\", \"mind\", \"mind\", \"mind\", \"miserable\", \"miserable\", \"miserable\", \"miserable\", \"misery\", \"misery\", \"misery\", \"misery\", \"month\", \"month\", \"month\", \"month\", \"morning\", \"morning\", \"morning\", \"morning\", \"mother\", \"mother\", \"mother\", \"mother\", \"mountain\", \"mountain\", \"mountain\", \"mountain\", \"murder\", \"murder\", \"murder\", \"murder\", \"murderer\", \"murderer\", \"murderer\", \"murderer\", \"nature\", \"nature\", \"nature\", \"nature\", \"oil\", \"old\", \"old\", \"old\", \"old\", \"open\", \"open\", \"open\", \"open\", \"pass\", \"pass\", \"pass\", \"pass\", \"patient\", \"patient\", \"patient\", \"pier\", \"pilot\", \"pipe\", \"pipe\", \"protector\", \"reflect\", \"reflect\", \"remain\", \"remain\", \"remain\", \"remain\", \"reply\", \"reply\", \"reply\", \"reply\", \"return\", \"return\", \"return\", \"return\", \"room\", \"room\", \"room\", \"room\", \"round\", \"round\", \"round\", \"round\", \"run\", \"run\", \"run\", \"run\", \"sail\", \"sail\", \"sail\", \"sailor\", \"sailor\", \"sailor\", \"scene\", \"scene\", \"scene\", \"scene\", \"sea\", \"sea\", \"sea\", \"sea\", \"sensation\", \"sensation\", \"sensation\", \"ship\", \"ship\", \"ship\", \"shipmate\", \"shipmate\", \"sister\", \"sister\", \"sister\", \"sister\", \"sit\", \"sit\", \"sit\", \"sit\", \"sleep\", \"sleep\", \"sleep\", \"sleep\", \"small\", \"small\", \"small\", \"small\", \"sort\", \"sort\", \"sort\", \"sort\", \"sperm\", \"sperm_whale\", \"spirit\", \"spirit\", \"spirit\", \"spirit\", \"stand\", \"stand\", \"stand\", \"stand\", \"strange\", \"strange\", \"strange\", \"strange\", \"tale\", \"tale\", \"tale\", \"tear\", \"tear\", \"tear\", \"tear\", \"thirst\", \"thou\", \"thou\", \"threat\", \"till\", \"till\", \"till\", \"till\", \"try\", \"try\", \"try\", \"try\", \"unfortunate\", \"victim\", \"victim\", \"voyage\", \"voyage\", \"voyage\", \"wake\", \"wake\", \"wake\", \"wall\", \"wall\", \"wall\", \"want\", \"want\", \"want\", \"want\", \"water\", \"water\", \"water\", \"weep\", \"weep\", \"weep\", \"weep\", \"whale\", \"whale\", \"whale\", \"whale\", \"whale_ship\", \"whaleman\", \"whaleman\", \"whaling\", \"whilst\", \"whilst\", \"whilst\", \"window\", \"window\", \"window\", \"window\", \"wish\", \"wish\", \"wish\", \"wish\", \"wolf\", \"wolf\", \"word\", \"word\", \"word\", \"word\", \"world\", \"world\", \"world\", \"world\", \"wretch\", \"write\", \"write\", \"write\", \"write\", \"young\", \"young\", \"young\", \"young\"]}, \"R\": 30, \"lambda.step\": 0.01, \"plot.opts\": {\"xlab\": \"PC1\", \"ylab\": \"PC2\"}, \"topic.order\": [2, 4, 3, 1]};\n",
       "\n",
       "function LDAvis_load_lib(url, callback){\n",
       "  var s = document.createElement('script');\n",
       "  s.src = url;\n",
       "  s.async = true;\n",
       "  s.onreadystatechange = s.onload = callback;\n",
       "  s.onerror = function(){console.warn(\"failed to load library \" + url);};\n",
       "  document.getElementsByTagName(\"head\")[0].appendChild(s);\n",
       "}\n",
       "\n",
       "if(typeof(LDAvis) !== \"undefined\"){\n",
       "   // already loaded: just create the visualization\n",
       "   !function(LDAvis){\n",
       "       new LDAvis(\"#\" + \"ldavis_el1415051443060006394267984\", ldavis_el1415051443060006394267984_data);\n",
       "   }(LDAvis);\n",
       "}else if(typeof define === \"function\" && define.amd){\n",
       "   // require.js is available: use it to load d3/LDAvis\n",
       "   require.config({paths: {d3: \"https://d3js.org/d3.v5\"}});\n",
       "   require([\"d3\"], function(d3){\n",
       "      window.d3 = d3;\n",
       "      LDAvis_load_lib(\"https://cdn.jsdelivr.net/gh/bmabey/pyLDAvis@3.4.0/pyLDAvis/js/ldavis.v3.0.0.js\", function(){\n",
       "        new LDAvis(\"#\" + \"ldavis_el1415051443060006394267984\", ldavis_el1415051443060006394267984_data);\n",
       "      });\n",
       "    });\n",
       "}else{\n",
       "    // require.js not available: dynamically load d3 & LDAvis\n",
       "    LDAvis_load_lib(\"https://d3js.org/d3.v5.js\", function(){\n",
       "         LDAvis_load_lib(\"https://cdn.jsdelivr.net/gh/bmabey/pyLDAvis@3.4.0/pyLDAvis/js/ldavis.v3.0.0.js\", function(){\n",
       "                 new LDAvis(\"#\" + \"ldavis_el1415051443060006394267984\", ldavis_el1415051443060006394267984_data);\n",
       "            })\n",
       "         });\n",
       "}\n",
       "</script>"
      ],
      "text/plain": [
       "<IPython.core.display.HTML object>"
      ]
     },
     "execution_count": 63,
     "metadata": {},
     "output_type": "execute_result"
    }
   ],
   "source": [
    "# plot topics\n",
    "data =  pyLDAvis.gensim_models.prepare(model, corpus, dictionary)\n",
    "pyLDAvis.display(data)"
   ]
  },
  {
   "cell_type": "code",
   "execution_count": 64,
   "metadata": {},
   "outputs": [],
   "source": [
    "# assignment\n",
    "sent_to_cluster = list()\n",
    "for n,doc in enumerate(corpus):\n",
    "    if doc:\n",
    "        cluster = max(model[doc],key=lambda x:x[1])\n",
    "        sent_to_cluster.append(cluster[0])"
   ]
  },
  {
   "cell_type": "code",
   "execution_count": 65,
   "metadata": {},
   "outputs": [
    {
     "name": "stdout",
     "output_type": "stream",
     "text": [
      "DRACULA.txt : 0 - 60\n",
      "Accuracy: 1.0\n",
      "------\n",
      "Frankenstein.txt : 3 - 60\n",
      "Accuracy: 1.0\n",
      "------\n",
      "Moby_Dick.txt : 2 - 56\n",
      "Accuracy: 0.9333333333333333\n",
      "------\n",
      "PRIDE_AND_PREJUDICE.txt : 1 - 60\n",
      "Accuracy: 1.0\n",
      "------\n"
     ]
    }
   ],
   "source": [
    "# accuracy\n",
    "from collections import Counter\n",
    "for book, cluster in book_id.items():\n",
    "    assignments = list()\n",
    "    for real,given in zip(chunk_class,sent_to_cluster):\n",
    "        if real == cluster:\n",
    "            assignments.append(given)\n",
    "    most_common,num_most_common = Counter(assignments).most_common(1)[0] # 4, 6 times\n",
    "    print(book,\":\",most_common,\"-\",num_most_common)\n",
    "    print(\"Accuracy:\",num_most_common/limit)\n",
    "    print(\"------\")"
   ]
  },
  {
   "cell_type": "markdown",
   "metadata": {},
   "source": [
    "# Task 4: Semantic analysis based on lexical categories"
   ]
  },
  {
   "cell_type": "code",
   "execution_count": 66,
   "metadata": {},
   "outputs": [],
   "source": [
    "from empath import Empath\n",
    "lexicon = Empath()"
   ]
  },
  {
   "cell_type": "markdown",
   "metadata": {},
   "source": [
    "### Let's see what pre-build categories we can study! More information: https://hci.stanford.edu/publications/2016/ethan/empath-chi-2016.pdf"
   ]
  },
  {
   "cell_type": "code",
   "execution_count": 67,
   "metadata": {},
   "outputs": [
    {
     "name": "stdout",
     "output_type": "stream",
     "text": [
      "help\n",
      "office\n",
      "dance\n",
      "money\n",
      "wedding\n",
      "domestic_work\n",
      "sleep\n",
      "medical_emergency\n",
      "cold\n",
      "hate\n",
      "cheerfulness\n",
      "aggression\n",
      "occupation\n",
      "envy\n",
      "anticipation\n"
     ]
    }
   ],
   "source": [
    "for cat in list(lexicon.cats.keys())[:15]:\n",
    "    print(cat)"
   ]
  },
  {
   "cell_type": "markdown",
   "metadata": {},
   "source": [
    "### For each category, we can examine representative terms"
   ]
  },
  {
   "cell_type": "code",
   "execution_count": 68,
   "metadata": {},
   "outputs": [
    {
     "data": {
      "text/plain": [
       "['ailment',\n",
       " 'vaccine',\n",
       " 'tumor',\n",
       " 'cure',\n",
       " 'gynecologist',\n",
       " 'injection',\n",
       " 'healthy',\n",
       " 'injury',\n",
       " 'pharmacist',\n",
       " 'dehydration',\n",
       " 'therapist',\n",
       " 'medication',\n",
       " 'schizophrenic',\n",
       " 'specialist',\n",
       " 'recovery']"
      ]
     },
     "execution_count": 68,
     "metadata": {},
     "output_type": "execute_result"
    }
   ],
   "source": [
    "lexicon.cats[\"health\"][:15]"
   ]
  },
  {
   "cell_type": "markdown",
   "metadata": {},
   "source": [
    "### Studying Pride and Prejudice"
   ]
  },
  {
   "cell_type": "code",
   "execution_count": 69,
   "metadata": {},
   "outputs": [],
   "source": [
    "nlp = spacy.load('en_core_web_sm')\n",
    "doc = nlp(books[3])"
   ]
  },
  {
   "cell_type": "code",
   "execution_count": 70,
   "metadata": {},
   "outputs": [],
   "source": [
    "empath_features = lexicon.analyze(doc.text,categories = [\"disappointment\", \"pain\", \"joy\", \"beauty\", \"affection\"])"
   ]
  },
  {
   "cell_type": "code",
   "execution_count": 71,
   "metadata": {},
   "outputs": [
    {
     "data": {
      "text/plain": [
       "{'disappointment': 149.0,\n",
       " 'pain': 228.0,\n",
       " 'joy': 278.0,\n",
       " 'beauty': 136.0,\n",
       " 'affection': 439.0}"
      ]
     },
     "execution_count": 71,
     "metadata": {},
     "output_type": "execute_result"
    }
   ],
   "source": [
    "empath_features"
   ]
  },
  {
   "cell_type": "code",
   "execution_count": 72,
   "metadata": {},
   "outputs": [],
   "source": [
    "empath_features = lexicon.analyze(doc.text,categories = [\"disappointment\", \"pain\", \"joy\", \"beauty\", \"affection\"], normalize = True)"
   ]
  },
  {
   "cell_type": "code",
   "execution_count": 73,
   "metadata": {},
   "outputs": [
    {
     "data": {
      "text/plain": [
       "{'disappointment': 0.0012256615693403638,\n",
       " 'pain': 0.001875508978587939,\n",
       " 'joy': 0.002286804807225645,\n",
       " 'beauty': 0.0011187246538945602,\n",
       " 'affection': 0.0036111773754390585}"
      ]
     },
     "execution_count": 73,
     "metadata": {},
     "output_type": "execute_result"
    }
   ],
   "source": [
    "empath_features"
   ]
  },
  {
   "cell_type": "markdown",
   "metadata": {},
   "source": [
    "### Usecase: the evolution of topics"
   ]
  },
  {
   "cell_type": "code",
   "execution_count": 74,
   "metadata": {},
   "outputs": [],
   "source": [
    "bins = range(0,len(doc.text),150000)\n"
   ]
  },
  {
   "cell_type": "code",
   "execution_count": 75,
   "metadata": {},
   "outputs": [],
   "source": [
    "love = []\n",
    "pain = []\n",
    "beauty = []\n",
    "affection = []\n",
    "\n",
    "\n",
    "for cnt,i in enumerate(bins[:-1]):\n",
    "    empath_features = lexicon.analyze(doc.text[bins[cnt]:bins[cnt+1]],\n",
    "                                      categories = [\"love\", \"pain\", \"joy\", \"beauty\", \"affection\"], normalize = True)\n",
    "    love.append(empath_features[\"love\"])\n",
    "    pain.append(empath_features[\"pain\"])\n",
    "    beauty.append(empath_features[\"beauty\"])\n",
    "    affection.append(empath_features[\"affection\"])"
   ]
  },
  {
   "cell_type": "code",
   "execution_count": 76,
   "metadata": {},
   "outputs": [
    {
     "data": {
      "text/plain": [
       "<matplotlib.legend.Legend at 0x1329339e0>"
      ]
     },
     "execution_count": 76,
     "metadata": {},
     "output_type": "execute_result"
    },
    {
     "data": {
      "image/png": "[encoded data removed]",
      "text/plain": [
       "<Figure size 640x480 with 1 Axes>"
      ]
     },
     "metadata": {},
     "output_type": "display_data"
    }
   ],
   "source": [
    "plt.plot(love,label = \"love\")\n",
    "plt.plot(beauty, label = \"beauty\")\n",
    "plt.plot(affection, label = \"affection\")\n",
    "plt.plot(pain,label = \"pain\")\n",
    "\n",
    "plt.xlabel(\"progression in the book\")\n",
    "plt.ylabel(\"frequency of a category\")\n",
    "plt.legend()"
   ]
  },
  {
   "cell_type": "code",
   "execution_count": 133,
   "metadata": {},
   "outputs": [],
   "source": [
    "# We can observe how as the story progresses, beauty and affection categories decrease, while love and pain intensify!"
   ]
  },
  {
   "cell_type": "markdown",
   "metadata": {},
   "source": [
    "### We can create custom categories based on seed terms!\n",
    "### Models trained on: fiction, nytimes or reddit"
   ]
  },
  {
   "cell_type": "code",
   "execution_count": 77,
   "metadata": {},
   "outputs": [
    {
     "name": "stdout",
     "output_type": "stream",
     "text": [
      "[\"avocado\", \"kale\", \"Swiss_chard\", \"escarole\", \"black_beans\", \"cucumber\", \"dill\", \"leek\", \"mango\", \"red_peppers\", \"chicory\", \"chanterelles\", \"chutney\", \"tamarind\", \"papaya\", \"black_olives\", \"endive\", \"pesto\", \"walnuts\", \"green_beans\", \"bok_choy\", \"portobello_mushrooms\", \"lemon_grass\", \"radicchio\", \"ricotta\", \"chicken_breast\", \"porcini\", \"blue_cheese\", \"snow_peas\", \"pickled\", \"Gorgonzola\", \"chorizo\", \"yams\", \"hazelnuts\", \"fresh_tomatoes\", \"shiitake_mushrooms\", \"anchovies\", \"wild_rice\", \"scallion\", \"red_onions\", \"broccoli_rape\", \"red_cabbage\", \"wasabi\", \"sweet_potato\", \"feta\", \"roasted_garlic\", \"compote\", \"napoleon\", \"aioli\", \"crab_meat\", \"cauliflower\", \"jicama\", \"parsnips\", \"apricots\", \"new_potatoes\", \"truffle_oil\", \"lemongrass\", \"pistachios\", \"saut\\u00e9ed\", \"gnocchi\", \"duck_confit\", \"fresh_herbs\", \"ratatouille\", \"white_beans\", \"croutons\", \"fresh_mozzarella\", \"squab\", \"watercress\", \"roasted_red_peppers\", \"pine_nuts\", \"fritters\", \"butternut_squash\", \"fava_beans\", \"drizzled\", \"red_onion\", \"pea_shoots\", \"rosemary\", \"romaine\", \"mustard_greens\", \"horseradish\", \"caramelized_onions\", \"artichoke_hearts\", \"fettuccine\", \"grilled_eggplant\", \"julienne\", \"plum_tomatoes\", \"grilled_chicken\", \"pineapple\", \"candied\", \"pancetta\", \"celery_root\", \"sea_scallops\", \"shiitake\", \"porcini_mushrooms\", \"sour_cream\", \"bean_sprouts\", \"oyster_mushrooms\", \"monkfish\", \"chickpeas\", \"coconut_milk\"]\n"
     ]
    }
   ],
   "source": [
    "lexicon.create_category(\"healthy_food\", [\"healthy_food\",\"low_carb\",\"kale\",\"avocado\"], model=\"nytimes\")"
   ]
  },
  {
   "cell_type": "code",
   "execution_count": 78,
   "metadata": {},
   "outputs": [
    {
     "name": "stdout",
     "output_type": "stream",
     "text": [
      "[\"green_vegetables\", \"leafy_greens\", \"whole_grain_bread\", \"brown_rice\", \"white_rice\", \"green_veggies\", \"veggies\", \"whole_wheat_bread\", \"sweet_potatoes\", \"raw_veggies\", \"lean_meat\", \"spinach\", \"fatty_meat\", \"kale\", \"sweet_potato\", \"avocado\", \"hummus\", \"chicken_breast\", \"veggie\", \"whole_grain\", \"vegetables\", \"whole_wheat_pasta\", \"salads\", \"broccoli\", \"greek_yogurt\", \"Greek_yogurt\", \"yogurt\", \"avocados\", \"rice_cakes\", \"raw_vegetables\", \"almonds\", \"lean_protein\", \"grilled_chicken\", \"quinoa\", \"steamed_broccoli\", \"whole_grain_pasta\", \"brocolli\", \"kale\", \"avocado\", \"tofu\", \"Veggies\", \"edamame\", \"more_veggies\", \"lean_meats\", \"quinoa\", \"salad\", \"cottage_cheese\", \"whole_wheat\", \"wheat_bread\", \"romaine_lettuce\", \"white_bread\", \"raw_spinach\", \"oatmeal\", \"white_potatoes\", \"almond_butter\", \"pork_rinds\", \"veg\", \"cashews\", \"greek_yoghurt\", \"baby_carrots\", \"fresh_veggies\", \"fatty_meats\", \"more_vegetables\", \"avacado\", \"veges\", \"nut_butter\", \"hard_boiled_eggs\", \"carrot_sticks\", \"whole_grains\", \"grilled_chicken_breast\", \"steamed_vegetables\", \"meats\", \"lentils\", \"green_beans\", \"low_cal\", \"nuts/seeds\", \"iceberg_lettuce\", \"carrots\", \"red_meat\", \"other_foods\", \"fried_foods\", \"smoothies\", \"healthy_fats\", \"vegies\", \"avacados\", \"other_vegetables\", \"fresh_fruit\", \"spinach_salad\", \"egg_whites\", \"steamed_veggies\", \"nut_butters\", \"ground_turkey\", \"baked_chicken\"]\n"
     ]
    }
   ],
   "source": [
    "lexicon.create_category(\"healthy_food\", [\"healthy_food\",\"low_carb\",\"kale\",\"avocado\"], model=\"reddit\")"
   ]
  },
  {
   "cell_type": "code",
   "execution_count": 79,
   "metadata": {},
   "outputs": [
    {
     "name": "stdout",
     "output_type": "stream",
     "text": [
      "[\"turkey\", \"roast_beef\", \"white_bread\", \"fried_chicken\", \"pancakes\", \"peanut_butter\", \"gefilte_fish\", \"stuffing\", \"French_fries\", \"meatloaf\", \"brisket\", \"potato_salad\", \"pumpkin_pie\", \"scrambled_eggs\", \"french_fries\", \"spaghetti\", \"gravy\", \"tamales\", \"pot_roast\", \"oatmeal\", \"lasagna\", \"corned_beef\", \"latkes\", \"pickles\", \"sauerkraut\", \"burger\", \"grits\", \"biscuits\", \"hamburger\", \"salad_bar\", \"corn_bread\", \"chicken_soup\", \"bacon\", \"cream_cheese\", \"brownies\", \"tofu\", \"pastrami\", \"pork_chops\", \"salami\", \"marshmallows\", \"collard_greens\", \"macaroni\", \"pies\", \"raw_fish\", \"eggnog\", \"cheeseburgers\", \"truffles\", \"chocolate_cake\", \"hard-boiled_eggs\", \"baked_potatoes\", \"venison\", \"cottage_cheese\", \"pheasant\", \"applesauce\", \"quail\", \"fruit_salad\", \"meatballs\", \"chocolate_chip_cookies\", \"tacos\", \"roast\", \"jelly\", \"chicken_salad\", \"omelet\", \"gumbo\", \"steaks\", \"soup\", \"lox\", \"sausage\", \"roast_chicken\", \"rye\", \"bagel\", \"fruitcake\", \"fries\", \"fried_eggs\", \"ketchup\", \"chicken_wings\", \"barbecue_sauce\", \"sweet_potatoes\", \"pasta\", \"sausages\", \"crackers\", \"omelets\", \"roasting\", \"French_toast\", \"muffins\", \"mashed_potatoes\", \"fresh_fruit\", \"baked_potato\", \"waffles\", \"cranberry_sauce\", \"baked_beans\", \"cheese\", \"tripe\", \"noodles\", \"maple_syrup\", \"quiche\", \"buns\", \"baklava\", \"stews\"]\n"
     ]
    }
   ],
   "source": [
    "lexicon.create_category(\"festive_food\", [\"festive_food\",\"turkey\",\"eggnog\"], model=\"nytimes\")"
   ]
  },
  {
   "cell_type": "markdown",
   "metadata": {},
   "source": [
    "### List of further resources\n",
    "    * NLTK\n",
    "    * Jellyfish: string similarity library\n",
    "    * TextBlob: simplified text processing\n",
    "    * PyEnchant: language detection\n",
    "    * WordNet: ontology of concepts (inc. in NLTK)\n",
    "    * Stanford NLP (Java)\n",
    "    * Tweet NLP: https://www.cs.cmu.edu/~ark/TweetNLP/"
   ]
  },
  {
   "cell_type": "markdown",
   "metadata": {},
   "source": [
    "## Part 2"
   ]
  },
  {
   "cell_type": "markdown",
   "metadata": {},
   "source": [
    "### Question 1:\n",
    "An NLP preprocessing model, using the list of stopwords ['a', 'the', 'is', 'you', 'I','my','with','was'] for the input sentence\n",
    "“I was driving down the street with my CAR! :)” <br>\n",
    "gives the following output: {driving, down, street, car, :)}.\n",
    "The model consists of: <br>\n",
    "\n",
    "a) Stopword Removal, Casefolding and Stemming <br>\n",
    "b) Stopword Removal and Casefolding <br>\n",
    "c) Stopword Removal and Stemming <br>\n",
    "d) Casefolding and Stemming <br>"
   ]
  },
  {
   "cell_type": "code",
   "execution_count": 137,
   "metadata": {},
   "outputs": [],
   "source": [
    "# write your code and/or answer here : b"
   ]
  },
  {
   "cell_type": "markdown",
   "metadata": {},
   "source": [
    "### Question 2:\n",
    "What statement is false about topic detection using LSA: <br>\n",
    "\n",
    "a) It finds the representation of documents and words in the latent \"topic space\" <br>\n",
    "b) It produces topics interpretable in “word space” <br>\n",
    "c) A document's topic representation is a probability distribution over topics <br>\n",
    "d) The vectors representing topics in “word space” are linearly independent <br>"
   ]
  },
  {
   "cell_type": "code",
   "execution_count": 138,
   "metadata": {},
   "outputs": [],
   "source": [
    "# write your code and/or answer here : c"
   ]
  },
  {
   "cell_type": "markdown",
   "metadata": {},
   "source": [
    "### Question 3:\n",
    "The problem of having more features than documents when using a TF-IDF matrix for document classification cannot be addressed by: <br>\n",
    "\n",
    "a) Using SVD for dimensionality reduction <br>\n",
    "b) Using min-max scaling of features <br>\n",
    "c) Penalizing very large positive and very large negative weights (a.k.a. regularization) <br>\n",
    "d) Using online feature selection <br>"
   ]
  },
  {
   "cell_type": "code",
   "execution_count": 139,
   "metadata": {},
   "outputs": [],
   "source": [
    "# write your code and/or answer here:  b"
   ]
  },
  {
   "cell_type": "markdown",
   "metadata": {},
   "source": [
    "### Question 4:\n",
    "Which of the following is false about word vectors: <br>\n",
    "\n",
    "a) Word2vec is used to achieve a lower dimensional representation than bag of words <br>\n",
    "b) Semantically similar words typically have similar word2vec vectors <br>\n",
    "c) Each dimension in the word2vec embedding has a clear interpretation <br>\n",
    "d) Word2Vec can be used for the computation of sentence vectors <br>"
   ]
  },
  {
   "cell_type": "code",
   "execution_count": 140,
   "metadata": {},
   "outputs": [],
   "source": [
    "# write your code and/or answer here: c"
   ]
  },
  {
   "cell_type": "markdown",
   "metadata": {},
   "source": [
    "### Question 5:\n",
    "Given the following word (W) / context (C) co-occurrence frequencies, which statement is true regarding the pointwise mutual information (PMI)?\n",
    "\n",
    "|  |W1|W2|W3|\n",
    "|--|--|--|--|\n",
    "|C1| 2| 0| 3|\n",
    "|C2| 6| 4| 0|\n",
    "|C3| 1| 1| 3|\n",
    "\n",
    "a) PMI(w=W1, c=C2) > PMI(w=W2, c=C2) > PMI(w=W3, c=C3) <br>\n",
    "b) PMI(w=W2, c=C2) > PMI(w=W1, c=C2) >  PMI(w=W3, c=C3) <br>\n",
    "c) PMI(w=W3, c=C3) > PMI(w=W1, c=C2) > PMI(w=W2, c=C2) <br>\n",
    "d) PMI(w=W3, c=C3) > PMI(w=W2, c=C2) > PMI(w=W1, c=C2) <br>"
   ]
  },
  {
   "cell_type": "code",
   "execution_count": 141,
   "metadata": {},
   "outputs": [],
   "source": [
    "# write your code and/or answer here : a"
   ]
  },
  {
   "cell_type": "code",
   "execution_count": null,
   "metadata": {
    "collapsed": true,
    "jupyter": {
     "outputs_hidden": true
    }
   },
   "outputs": [],
   "source": []
  }
 ],
 "metadata": {
  "kernelspec": {
   "display_name": "Python 3",
   "language": "python",
   "name": "python3"
  },
  "language_info": {
   "codemirror_mode": {
    "name": "ipython",
    "version": 3
   },
   "file_extension": ".py",
   "mimetype": "text/x-python",
   "name": "python",
   "nbconvert_exporter": "python",
   "pygments_lexer": "ipython3",
   "version": "3.12.1"
  },
  "toc": {
   "colors": {
    "hover_highlight": "#DAA520",
    "navigate_num": "#000000",
    "navigate_text": "#333333",
    "running_highlight": "#FF0000",
    "selected_highlight": "#FFD700",
    "sidebar_border": "#EEEEEE",
    "wrapper_background": "#FFFFFF"
   },
   "moveMenuLeft": true,
   "nav_menu": {
    "height": "228px",
    "width": "252px"
   },
   "navigate_menu": true,
   "number_sections": true,
   "sideBar": true,
   "threshold": 4,
   "toc_cell": false,
   "toc_section_display": "block",
   "toc_window_display": false,
   "widenNotebook": false
  },
  "varInspector": {
   "cols": {
    "lenName": 16,
    "lenType": 16,
    "lenVar": 40
   },
   "kernels_config": {
    "python": {
     "delete_cmd_postfix": "",
     "delete_cmd_prefix": "del ",
     "library": "var_list.py",
     "varRefreshCmd": "print(var_dic_list())"
    },
    "r": {
     "delete_cmd_postfix": ") ",
     "delete_cmd_prefix": "rm(",
     "library": "var_list.r",
     "varRefreshCmd": "cat(var_dic_list()) "
    }
   },
   "types_to_exclude": [
    "module",
    "function",
    "builtin_function_or_method",
    "instance",
    "_Feature"
   ],
   "window_display": false
  }
 },
 "nbformat": 4,
 "nbformat_minor": 4
}
